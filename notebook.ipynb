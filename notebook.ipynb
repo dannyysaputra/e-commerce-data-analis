{
  "cells": [
    {
      "cell_type": "markdown",
      "metadata": {
        "id": "H9wADwK78DCz"
      },
      "source": [
        "# Proyek Analisis Data: [E-Commerce]\n",
        "- **Nama:** Danny Suggi Saputra\n",
        "- **Email:** dannysaputra3003@gmail.com\n",
        "- **ID Dicoding:** dannyysaputra"
      ]
    },
    {
      "cell_type": "markdown",
      "metadata": {
        "id": "eE0raob58DC0"
      },
      "source": [
        "## Menentukan Pertanyaan Bisnis"
      ]
    },
    {
      "cell_type": "markdown",
      "metadata": {
        "id": "GmQeQ5YF8DC0"
      },
      "source": [
        "- Bagaimana tren jumlah pesanan dari waktu ke waktu?\n",
        "- Produk kategori apa yang paling banyak terjual dan menghasilkan pendapatan tertinggi?\n",
        "- Metode pembayaran apa yang paling sering digunakan oleh pelanggan?\n",
        "- Seberapa puas pelanggan dengan layanan yang diberikan?\n",
        "- Kota atau wilayah mana yang memiliki jumlah pembelian terbanyak?"
      ]
    },
    {
      "cell_type": "markdown",
      "metadata": {
        "id": "H-z4QGlO8DC1"
      },
      "source": [
        "## Import Semua Packages/Library yang Digunakan"
      ]
    },
    {
      "cell_type": "code",
      "execution_count": 1,
      "metadata": {
        "id": "FVYwaObI8DC1"
      },
      "outputs": [],
      "source": [
        "import pandas as pd\n",
        "import numpy as np\n",
        "import matplotlib.pyplot as plt\n",
        "import seaborn as sns\n",
        "import os\n",
        "from datetime import datetime"
      ]
    },
    {
      "cell_type": "markdown",
      "metadata": {
        "id": "h_Sh51Xy8DC1"
      },
      "source": [
        "## Data Wrangling"
      ]
    },
    {
      "cell_type": "markdown",
      "metadata": {},
      "source": [
        "### Gathering Data"
      ]
    },
    {
      "cell_type": "code",
      "execution_count": 2,
      "metadata": {},
      "outputs": [
        {
          "data": {
            "text/html": [
              "<div>\n",
              "<style scoped>\n",
              "    .dataframe tbody tr th:only-of-type {\n",
              "        vertical-align: middle;\n",
              "    }\n",
              "\n",
              "    .dataframe tbody tr th {\n",
              "        vertical-align: top;\n",
              "    }\n",
              "\n",
              "    .dataframe thead th {\n",
              "        text-align: right;\n",
              "    }\n",
              "</style>\n",
              "<table border=\"1\" class=\"dataframe\">\n",
              "  <thead>\n",
              "    <tr style=\"text-align: right;\">\n",
              "      <th></th>\n",
              "      <th>customer_id</th>\n",
              "      <th>customer_unique_id</th>\n",
              "      <th>customer_zip_code_prefix</th>\n",
              "      <th>customer_city</th>\n",
              "      <th>customer_state</th>\n",
              "    </tr>\n",
              "  </thead>\n",
              "  <tbody>\n",
              "    <tr>\n",
              "      <th>0</th>\n",
              "      <td>06b8999e2fba1a1fbc88172c00ba8bc7</td>\n",
              "      <td>861eff4711a542e4b93843c6dd7febb0</td>\n",
              "      <td>14409</td>\n",
              "      <td>franca</td>\n",
              "      <td>SP</td>\n",
              "    </tr>\n",
              "    <tr>\n",
              "      <th>1</th>\n",
              "      <td>18955e83d337fd6b2def6b18a428ac77</td>\n",
              "      <td>290c77bc529b7ac935b93aa66c333dc3</td>\n",
              "      <td>9790</td>\n",
              "      <td>sao bernardo do campo</td>\n",
              "      <td>SP</td>\n",
              "    </tr>\n",
              "    <tr>\n",
              "      <th>2</th>\n",
              "      <td>4e7b3e00288586ebd08712fdd0374a03</td>\n",
              "      <td>060e732b5b29e8181a18229c7b0b2b5e</td>\n",
              "      <td>1151</td>\n",
              "      <td>sao paulo</td>\n",
              "      <td>SP</td>\n",
              "    </tr>\n",
              "    <tr>\n",
              "      <th>3</th>\n",
              "      <td>b2b6027bc5c5109e529d4dc6358b12c3</td>\n",
              "      <td>259dac757896d24d7702b9acbbff3f3c</td>\n",
              "      <td>8775</td>\n",
              "      <td>mogi das cruzes</td>\n",
              "      <td>SP</td>\n",
              "    </tr>\n",
              "    <tr>\n",
              "      <th>4</th>\n",
              "      <td>4f2d8ab171c80ec8364f7c12e35b23ad</td>\n",
              "      <td>345ecd01c38d18a9036ed96c73b8d066</td>\n",
              "      <td>13056</td>\n",
              "      <td>campinas</td>\n",
              "      <td>SP</td>\n",
              "    </tr>\n",
              "  </tbody>\n",
              "</table>\n",
              "</div>"
            ],
            "text/plain": [
              "                        customer_id                customer_unique_id  \\\n",
              "0  06b8999e2fba1a1fbc88172c00ba8bc7  861eff4711a542e4b93843c6dd7febb0   \n",
              "1  18955e83d337fd6b2def6b18a428ac77  290c77bc529b7ac935b93aa66c333dc3   \n",
              "2  4e7b3e00288586ebd08712fdd0374a03  060e732b5b29e8181a18229c7b0b2b5e   \n",
              "3  b2b6027bc5c5109e529d4dc6358b12c3  259dac757896d24d7702b9acbbff3f3c   \n",
              "4  4f2d8ab171c80ec8364f7c12e35b23ad  345ecd01c38d18a9036ed96c73b8d066   \n",
              "\n",
              "   customer_zip_code_prefix          customer_city customer_state  \n",
              "0                     14409                 franca             SP  \n",
              "1                      9790  sao bernardo do campo             SP  \n",
              "2                      1151              sao paulo             SP  \n",
              "3                      8775        mogi das cruzes             SP  \n",
              "4                     13056               campinas             SP  "
            ]
          },
          "execution_count": 2,
          "metadata": {},
          "output_type": "execute_result"
        }
      ],
      "source": [
        "df_customers = pd.read_csv('data/customers_dataset.csv')\n",
        "df_customers.head()"
      ]
    },
    {
      "cell_type": "code",
      "execution_count": 3,
      "metadata": {},
      "outputs": [
        {
          "data": {
            "text/html": [
              "<div>\n",
              "<style scoped>\n",
              "    .dataframe tbody tr th:only-of-type {\n",
              "        vertical-align: middle;\n",
              "    }\n",
              "\n",
              "    .dataframe tbody tr th {\n",
              "        vertical-align: top;\n",
              "    }\n",
              "\n",
              "    .dataframe thead th {\n",
              "        text-align: right;\n",
              "    }\n",
              "</style>\n",
              "<table border=\"1\" class=\"dataframe\">\n",
              "  <thead>\n",
              "    <tr style=\"text-align: right;\">\n",
              "      <th></th>\n",
              "      <th>geolocation_zip_code_prefix</th>\n",
              "      <th>geolocation_lat</th>\n",
              "      <th>geolocation_lng</th>\n",
              "      <th>geolocation_city</th>\n",
              "      <th>geolocation_state</th>\n",
              "    </tr>\n",
              "  </thead>\n",
              "  <tbody>\n",
              "    <tr>\n",
              "      <th>0</th>\n",
              "      <td>1037</td>\n",
              "      <td>-23.545621</td>\n",
              "      <td>-46.639292</td>\n",
              "      <td>sao paulo</td>\n",
              "      <td>SP</td>\n",
              "    </tr>\n",
              "    <tr>\n",
              "      <th>1</th>\n",
              "      <td>1046</td>\n",
              "      <td>-23.546081</td>\n",
              "      <td>-46.644820</td>\n",
              "      <td>sao paulo</td>\n",
              "      <td>SP</td>\n",
              "    </tr>\n",
              "    <tr>\n",
              "      <th>2</th>\n",
              "      <td>1046</td>\n",
              "      <td>-23.546129</td>\n",
              "      <td>-46.642951</td>\n",
              "      <td>sao paulo</td>\n",
              "      <td>SP</td>\n",
              "    </tr>\n",
              "    <tr>\n",
              "      <th>3</th>\n",
              "      <td>1041</td>\n",
              "      <td>-23.544392</td>\n",
              "      <td>-46.639499</td>\n",
              "      <td>sao paulo</td>\n",
              "      <td>SP</td>\n",
              "    </tr>\n",
              "    <tr>\n",
              "      <th>4</th>\n",
              "      <td>1035</td>\n",
              "      <td>-23.541578</td>\n",
              "      <td>-46.641607</td>\n",
              "      <td>sao paulo</td>\n",
              "      <td>SP</td>\n",
              "    </tr>\n",
              "  </tbody>\n",
              "</table>\n",
              "</div>"
            ],
            "text/plain": [
              "   geolocation_zip_code_prefix  geolocation_lat  geolocation_lng  \\\n",
              "0                         1037       -23.545621       -46.639292   \n",
              "1                         1046       -23.546081       -46.644820   \n",
              "2                         1046       -23.546129       -46.642951   \n",
              "3                         1041       -23.544392       -46.639499   \n",
              "4                         1035       -23.541578       -46.641607   \n",
              "\n",
              "  geolocation_city geolocation_state  \n",
              "0        sao paulo                SP  \n",
              "1        sao paulo                SP  \n",
              "2        sao paulo                SP  \n",
              "3        sao paulo                SP  \n",
              "4        sao paulo                SP  "
            ]
          },
          "execution_count": 3,
          "metadata": {},
          "output_type": "execute_result"
        }
      ],
      "source": [
        "df_geolocation = pd.read_csv('data/geolocation_dataset.csv')\n",
        "df_geolocation.head()"
      ]
    },
    {
      "cell_type": "code",
      "execution_count": 4,
      "metadata": {},
      "outputs": [
        {
          "data": {
            "text/html": [
              "<div>\n",
              "<style scoped>\n",
              "    .dataframe tbody tr th:only-of-type {\n",
              "        vertical-align: middle;\n",
              "    }\n",
              "\n",
              "    .dataframe tbody tr th {\n",
              "        vertical-align: top;\n",
              "    }\n",
              "\n",
              "    .dataframe thead th {\n",
              "        text-align: right;\n",
              "    }\n",
              "</style>\n",
              "<table border=\"1\" class=\"dataframe\">\n",
              "  <thead>\n",
              "    <tr style=\"text-align: right;\">\n",
              "      <th></th>\n",
              "      <th>order_id</th>\n",
              "      <th>order_item_id</th>\n",
              "      <th>product_id</th>\n",
              "      <th>seller_id</th>\n",
              "      <th>shipping_limit_date</th>\n",
              "      <th>price</th>\n",
              "      <th>freight_value</th>\n",
              "    </tr>\n",
              "  </thead>\n",
              "  <tbody>\n",
              "    <tr>\n",
              "      <th>0</th>\n",
              "      <td>00010242fe8c5a6d1ba2dd792cb16214</td>\n",
              "      <td>1</td>\n",
              "      <td>4244733e06e7ecb4970a6e2683c13e61</td>\n",
              "      <td>48436dade18ac8b2bce089ec2a041202</td>\n",
              "      <td>2017-09-19 09:45:35</td>\n",
              "      <td>58.90</td>\n",
              "      <td>13.29</td>\n",
              "    </tr>\n",
              "    <tr>\n",
              "      <th>1</th>\n",
              "      <td>00018f77f2f0320c557190d7a144bdd3</td>\n",
              "      <td>1</td>\n",
              "      <td>e5f2d52b802189ee658865ca93d83a8f</td>\n",
              "      <td>dd7ddc04e1b6c2c614352b383efe2d36</td>\n",
              "      <td>2017-05-03 11:05:13</td>\n",
              "      <td>239.90</td>\n",
              "      <td>19.93</td>\n",
              "    </tr>\n",
              "    <tr>\n",
              "      <th>2</th>\n",
              "      <td>000229ec398224ef6ca0657da4fc703e</td>\n",
              "      <td>1</td>\n",
              "      <td>c777355d18b72b67abbeef9df44fd0fd</td>\n",
              "      <td>5b51032eddd242adc84c38acab88f23d</td>\n",
              "      <td>2018-01-18 14:48:30</td>\n",
              "      <td>199.00</td>\n",
              "      <td>17.87</td>\n",
              "    </tr>\n",
              "    <tr>\n",
              "      <th>3</th>\n",
              "      <td>00024acbcdf0a6daa1e931b038114c75</td>\n",
              "      <td>1</td>\n",
              "      <td>7634da152a4610f1595efa32f14722fc</td>\n",
              "      <td>9d7a1d34a5052409006425275ba1c2b4</td>\n",
              "      <td>2018-08-15 10:10:18</td>\n",
              "      <td>12.99</td>\n",
              "      <td>12.79</td>\n",
              "    </tr>\n",
              "    <tr>\n",
              "      <th>4</th>\n",
              "      <td>00042b26cf59d7ce69dfabb4e55b4fd9</td>\n",
              "      <td>1</td>\n",
              "      <td>ac6c3623068f30de03045865e4e10089</td>\n",
              "      <td>df560393f3a51e74553ab94004ba5c87</td>\n",
              "      <td>2017-02-13 13:57:51</td>\n",
              "      <td>199.90</td>\n",
              "      <td>18.14</td>\n",
              "    </tr>\n",
              "  </tbody>\n",
              "</table>\n",
              "</div>"
            ],
            "text/plain": [
              "                           order_id  order_item_id  \\\n",
              "0  00010242fe8c5a6d1ba2dd792cb16214              1   \n",
              "1  00018f77f2f0320c557190d7a144bdd3              1   \n",
              "2  000229ec398224ef6ca0657da4fc703e              1   \n",
              "3  00024acbcdf0a6daa1e931b038114c75              1   \n",
              "4  00042b26cf59d7ce69dfabb4e55b4fd9              1   \n",
              "\n",
              "                         product_id                         seller_id  \\\n",
              "0  4244733e06e7ecb4970a6e2683c13e61  48436dade18ac8b2bce089ec2a041202   \n",
              "1  e5f2d52b802189ee658865ca93d83a8f  dd7ddc04e1b6c2c614352b383efe2d36   \n",
              "2  c777355d18b72b67abbeef9df44fd0fd  5b51032eddd242adc84c38acab88f23d   \n",
              "3  7634da152a4610f1595efa32f14722fc  9d7a1d34a5052409006425275ba1c2b4   \n",
              "4  ac6c3623068f30de03045865e4e10089  df560393f3a51e74553ab94004ba5c87   \n",
              "\n",
              "   shipping_limit_date   price  freight_value  \n",
              "0  2017-09-19 09:45:35   58.90          13.29  \n",
              "1  2017-05-03 11:05:13  239.90          19.93  \n",
              "2  2018-01-18 14:48:30  199.00          17.87  \n",
              "3  2018-08-15 10:10:18   12.99          12.79  \n",
              "4  2017-02-13 13:57:51  199.90          18.14  "
            ]
          },
          "execution_count": 4,
          "metadata": {},
          "output_type": "execute_result"
        }
      ],
      "source": [
        "df_order_items = pd.read_csv('data/order_items_dataset.csv')\n",
        "df_order_items.head()"
      ]
    },
    {
      "cell_type": "code",
      "execution_count": 5,
      "metadata": {},
      "outputs": [
        {
          "data": {
            "text/html": [
              "<div>\n",
              "<style scoped>\n",
              "    .dataframe tbody tr th:only-of-type {\n",
              "        vertical-align: middle;\n",
              "    }\n",
              "\n",
              "    .dataframe tbody tr th {\n",
              "        vertical-align: top;\n",
              "    }\n",
              "\n",
              "    .dataframe thead th {\n",
              "        text-align: right;\n",
              "    }\n",
              "</style>\n",
              "<table border=\"1\" class=\"dataframe\">\n",
              "  <thead>\n",
              "    <tr style=\"text-align: right;\">\n",
              "      <th></th>\n",
              "      <th>order_id</th>\n",
              "      <th>payment_sequential</th>\n",
              "      <th>payment_type</th>\n",
              "      <th>payment_installments</th>\n",
              "      <th>payment_value</th>\n",
              "    </tr>\n",
              "  </thead>\n",
              "  <tbody>\n",
              "    <tr>\n",
              "      <th>0</th>\n",
              "      <td>b81ef226f3fe1789b1e8b2acac839d17</td>\n",
              "      <td>1</td>\n",
              "      <td>credit_card</td>\n",
              "      <td>8</td>\n",
              "      <td>99.33</td>\n",
              "    </tr>\n",
              "    <tr>\n",
              "      <th>1</th>\n",
              "      <td>a9810da82917af2d9aefd1278f1dcfa0</td>\n",
              "      <td>1</td>\n",
              "      <td>credit_card</td>\n",
              "      <td>1</td>\n",
              "      <td>24.39</td>\n",
              "    </tr>\n",
              "    <tr>\n",
              "      <th>2</th>\n",
              "      <td>25e8ea4e93396b6fa0d3dd708e76c1bd</td>\n",
              "      <td>1</td>\n",
              "      <td>credit_card</td>\n",
              "      <td>1</td>\n",
              "      <td>65.71</td>\n",
              "    </tr>\n",
              "    <tr>\n",
              "      <th>3</th>\n",
              "      <td>ba78997921bbcdc1373bb41e913ab953</td>\n",
              "      <td>1</td>\n",
              "      <td>credit_card</td>\n",
              "      <td>8</td>\n",
              "      <td>107.78</td>\n",
              "    </tr>\n",
              "    <tr>\n",
              "      <th>4</th>\n",
              "      <td>42fdf880ba16b47b59251dd489d4441a</td>\n",
              "      <td>1</td>\n",
              "      <td>credit_card</td>\n",
              "      <td>2</td>\n",
              "      <td>128.45</td>\n",
              "    </tr>\n",
              "  </tbody>\n",
              "</table>\n",
              "</div>"
            ],
            "text/plain": [
              "                           order_id  payment_sequential payment_type  \\\n",
              "0  b81ef226f3fe1789b1e8b2acac839d17                   1  credit_card   \n",
              "1  a9810da82917af2d9aefd1278f1dcfa0                   1  credit_card   \n",
              "2  25e8ea4e93396b6fa0d3dd708e76c1bd                   1  credit_card   \n",
              "3  ba78997921bbcdc1373bb41e913ab953                   1  credit_card   \n",
              "4  42fdf880ba16b47b59251dd489d4441a                   1  credit_card   \n",
              "\n",
              "   payment_installments  payment_value  \n",
              "0                     8          99.33  \n",
              "1                     1          24.39  \n",
              "2                     1          65.71  \n",
              "3                     8         107.78  \n",
              "4                     2         128.45  "
            ]
          },
          "execution_count": 5,
          "metadata": {},
          "output_type": "execute_result"
        }
      ],
      "source": [
        "df_order_payments = pd.read_csv('data/order_payments_dataset.csv')\n",
        "df_order_payments.head()"
      ]
    },
    {
      "cell_type": "code",
      "execution_count": 6,
      "metadata": {},
      "outputs": [
        {
          "data": {
            "text/html": [
              "<div>\n",
              "<style scoped>\n",
              "    .dataframe tbody tr th:only-of-type {\n",
              "        vertical-align: middle;\n",
              "    }\n",
              "\n",
              "    .dataframe tbody tr th {\n",
              "        vertical-align: top;\n",
              "    }\n",
              "\n",
              "    .dataframe thead th {\n",
              "        text-align: right;\n",
              "    }\n",
              "</style>\n",
              "<table border=\"1\" class=\"dataframe\">\n",
              "  <thead>\n",
              "    <tr style=\"text-align: right;\">\n",
              "      <th></th>\n",
              "      <th>review_id</th>\n",
              "      <th>order_id</th>\n",
              "      <th>review_score</th>\n",
              "      <th>review_comment_title</th>\n",
              "      <th>review_comment_message</th>\n",
              "      <th>review_creation_date</th>\n",
              "      <th>review_answer_timestamp</th>\n",
              "    </tr>\n",
              "  </thead>\n",
              "  <tbody>\n",
              "    <tr>\n",
              "      <th>0</th>\n",
              "      <td>7bc2406110b926393aa56f80a40eba40</td>\n",
              "      <td>73fc7af87114b39712e6da79b0a377eb</td>\n",
              "      <td>4</td>\n",
              "      <td>NaN</td>\n",
              "      <td>NaN</td>\n",
              "      <td>2018-01-18 00:00:00</td>\n",
              "      <td>2018-01-18 21:46:59</td>\n",
              "    </tr>\n",
              "    <tr>\n",
              "      <th>1</th>\n",
              "      <td>80e641a11e56f04c1ad469d5645fdfde</td>\n",
              "      <td>a548910a1c6147796b98fdf73dbeba33</td>\n",
              "      <td>5</td>\n",
              "      <td>NaN</td>\n",
              "      <td>NaN</td>\n",
              "      <td>2018-03-10 00:00:00</td>\n",
              "      <td>2018-03-11 03:05:13</td>\n",
              "    </tr>\n",
              "    <tr>\n",
              "      <th>2</th>\n",
              "      <td>228ce5500dc1d8e020d8d1322874b6f0</td>\n",
              "      <td>f9e4b658b201a9f2ecdecbb34bed034b</td>\n",
              "      <td>5</td>\n",
              "      <td>NaN</td>\n",
              "      <td>NaN</td>\n",
              "      <td>2018-02-17 00:00:00</td>\n",
              "      <td>2018-02-18 14:36:24</td>\n",
              "    </tr>\n",
              "    <tr>\n",
              "      <th>3</th>\n",
              "      <td>e64fb393e7b32834bb789ff8bb30750e</td>\n",
              "      <td>658677c97b385a9be170737859d3511b</td>\n",
              "      <td>5</td>\n",
              "      <td>NaN</td>\n",
              "      <td>Recebi bem antes do prazo estipulado.</td>\n",
              "      <td>2017-04-21 00:00:00</td>\n",
              "      <td>2017-04-21 22:02:06</td>\n",
              "    </tr>\n",
              "    <tr>\n",
              "      <th>4</th>\n",
              "      <td>f7c4243c7fe1938f181bec41a392bdeb</td>\n",
              "      <td>8e6bfb81e283fa7e4f11123a3fb894f1</td>\n",
              "      <td>5</td>\n",
              "      <td>NaN</td>\n",
              "      <td>Parabéns lojas lannister adorei comprar pela I...</td>\n",
              "      <td>2018-03-01 00:00:00</td>\n",
              "      <td>2018-03-02 10:26:53</td>\n",
              "    </tr>\n",
              "  </tbody>\n",
              "</table>\n",
              "</div>"
            ],
            "text/plain": [
              "                          review_id                          order_id  \\\n",
              "0  7bc2406110b926393aa56f80a40eba40  73fc7af87114b39712e6da79b0a377eb   \n",
              "1  80e641a11e56f04c1ad469d5645fdfde  a548910a1c6147796b98fdf73dbeba33   \n",
              "2  228ce5500dc1d8e020d8d1322874b6f0  f9e4b658b201a9f2ecdecbb34bed034b   \n",
              "3  e64fb393e7b32834bb789ff8bb30750e  658677c97b385a9be170737859d3511b   \n",
              "4  f7c4243c7fe1938f181bec41a392bdeb  8e6bfb81e283fa7e4f11123a3fb894f1   \n",
              "\n",
              "   review_score review_comment_title  \\\n",
              "0             4                  NaN   \n",
              "1             5                  NaN   \n",
              "2             5                  NaN   \n",
              "3             5                  NaN   \n",
              "4             5                  NaN   \n",
              "\n",
              "                              review_comment_message review_creation_date  \\\n",
              "0                                                NaN  2018-01-18 00:00:00   \n",
              "1                                                NaN  2018-03-10 00:00:00   \n",
              "2                                                NaN  2018-02-17 00:00:00   \n",
              "3              Recebi bem antes do prazo estipulado.  2017-04-21 00:00:00   \n",
              "4  Parabéns lojas lannister adorei comprar pela I...  2018-03-01 00:00:00   \n",
              "\n",
              "  review_answer_timestamp  \n",
              "0     2018-01-18 21:46:59  \n",
              "1     2018-03-11 03:05:13  \n",
              "2     2018-02-18 14:36:24  \n",
              "3     2017-04-21 22:02:06  \n",
              "4     2018-03-02 10:26:53  "
            ]
          },
          "execution_count": 6,
          "metadata": {},
          "output_type": "execute_result"
        }
      ],
      "source": [
        "df_order_reviews = pd.read_csv('data/order_reviews_dataset.csv')\n",
        "df_order_reviews.head()"
      ]
    },
    {
      "cell_type": "code",
      "execution_count": 7,
      "metadata": {},
      "outputs": [
        {
          "data": {
            "text/html": [
              "<div>\n",
              "<style scoped>\n",
              "    .dataframe tbody tr th:only-of-type {\n",
              "        vertical-align: middle;\n",
              "    }\n",
              "\n",
              "    .dataframe tbody tr th {\n",
              "        vertical-align: top;\n",
              "    }\n",
              "\n",
              "    .dataframe thead th {\n",
              "        text-align: right;\n",
              "    }\n",
              "</style>\n",
              "<table border=\"1\" class=\"dataframe\">\n",
              "  <thead>\n",
              "    <tr style=\"text-align: right;\">\n",
              "      <th></th>\n",
              "      <th>order_id</th>\n",
              "      <th>customer_id</th>\n",
              "      <th>order_status</th>\n",
              "      <th>order_purchase_timestamp</th>\n",
              "      <th>order_approved_at</th>\n",
              "      <th>order_delivered_carrier_date</th>\n",
              "      <th>order_delivered_customer_date</th>\n",
              "      <th>order_estimated_delivery_date</th>\n",
              "    </tr>\n",
              "  </thead>\n",
              "  <tbody>\n",
              "    <tr>\n",
              "      <th>0</th>\n",
              "      <td>e481f51cbdc54678b7cc49136f2d6af7</td>\n",
              "      <td>9ef432eb6251297304e76186b10a928d</td>\n",
              "      <td>delivered</td>\n",
              "      <td>2017-10-02 10:56:33</td>\n",
              "      <td>2017-10-02 11:07:15</td>\n",
              "      <td>2017-10-04 19:55:00</td>\n",
              "      <td>2017-10-10 21:25:13</td>\n",
              "      <td>2017-10-18 00:00:00</td>\n",
              "    </tr>\n",
              "    <tr>\n",
              "      <th>1</th>\n",
              "      <td>53cdb2fc8bc7dce0b6741e2150273451</td>\n",
              "      <td>b0830fb4747a6c6d20dea0b8c802d7ef</td>\n",
              "      <td>delivered</td>\n",
              "      <td>2018-07-24 20:41:37</td>\n",
              "      <td>2018-07-26 03:24:27</td>\n",
              "      <td>2018-07-26 14:31:00</td>\n",
              "      <td>2018-08-07 15:27:45</td>\n",
              "      <td>2018-08-13 00:00:00</td>\n",
              "    </tr>\n",
              "    <tr>\n",
              "      <th>2</th>\n",
              "      <td>47770eb9100c2d0c44946d9cf07ec65d</td>\n",
              "      <td>41ce2a54c0b03bf3443c3d931a367089</td>\n",
              "      <td>delivered</td>\n",
              "      <td>2018-08-08 08:38:49</td>\n",
              "      <td>2018-08-08 08:55:23</td>\n",
              "      <td>2018-08-08 13:50:00</td>\n",
              "      <td>2018-08-17 18:06:29</td>\n",
              "      <td>2018-09-04 00:00:00</td>\n",
              "    </tr>\n",
              "    <tr>\n",
              "      <th>3</th>\n",
              "      <td>949d5b44dbf5de918fe9c16f97b45f8a</td>\n",
              "      <td>f88197465ea7920adcdbec7375364d82</td>\n",
              "      <td>delivered</td>\n",
              "      <td>2017-11-18 19:28:06</td>\n",
              "      <td>2017-11-18 19:45:59</td>\n",
              "      <td>2017-11-22 13:39:59</td>\n",
              "      <td>2017-12-02 00:28:42</td>\n",
              "      <td>2017-12-15 00:00:00</td>\n",
              "    </tr>\n",
              "    <tr>\n",
              "      <th>4</th>\n",
              "      <td>ad21c59c0840e6cb83a9ceb5573f8159</td>\n",
              "      <td>8ab97904e6daea8866dbdbc4fb7aad2c</td>\n",
              "      <td>delivered</td>\n",
              "      <td>2018-02-13 21:18:39</td>\n",
              "      <td>2018-02-13 22:20:29</td>\n",
              "      <td>2018-02-14 19:46:34</td>\n",
              "      <td>2018-02-16 18:17:02</td>\n",
              "      <td>2018-02-26 00:00:00</td>\n",
              "    </tr>\n",
              "  </tbody>\n",
              "</table>\n",
              "</div>"
            ],
            "text/plain": [
              "                           order_id                       customer_id  \\\n",
              "0  e481f51cbdc54678b7cc49136f2d6af7  9ef432eb6251297304e76186b10a928d   \n",
              "1  53cdb2fc8bc7dce0b6741e2150273451  b0830fb4747a6c6d20dea0b8c802d7ef   \n",
              "2  47770eb9100c2d0c44946d9cf07ec65d  41ce2a54c0b03bf3443c3d931a367089   \n",
              "3  949d5b44dbf5de918fe9c16f97b45f8a  f88197465ea7920adcdbec7375364d82   \n",
              "4  ad21c59c0840e6cb83a9ceb5573f8159  8ab97904e6daea8866dbdbc4fb7aad2c   \n",
              "\n",
              "  order_status order_purchase_timestamp    order_approved_at  \\\n",
              "0    delivered      2017-10-02 10:56:33  2017-10-02 11:07:15   \n",
              "1    delivered      2018-07-24 20:41:37  2018-07-26 03:24:27   \n",
              "2    delivered      2018-08-08 08:38:49  2018-08-08 08:55:23   \n",
              "3    delivered      2017-11-18 19:28:06  2017-11-18 19:45:59   \n",
              "4    delivered      2018-02-13 21:18:39  2018-02-13 22:20:29   \n",
              "\n",
              "  order_delivered_carrier_date order_delivered_customer_date  \\\n",
              "0          2017-10-04 19:55:00           2017-10-10 21:25:13   \n",
              "1          2018-07-26 14:31:00           2018-08-07 15:27:45   \n",
              "2          2018-08-08 13:50:00           2018-08-17 18:06:29   \n",
              "3          2017-11-22 13:39:59           2017-12-02 00:28:42   \n",
              "4          2018-02-14 19:46:34           2018-02-16 18:17:02   \n",
              "\n",
              "  order_estimated_delivery_date  \n",
              "0           2017-10-18 00:00:00  \n",
              "1           2018-08-13 00:00:00  \n",
              "2           2018-09-04 00:00:00  \n",
              "3           2017-12-15 00:00:00  \n",
              "4           2018-02-26 00:00:00  "
            ]
          },
          "execution_count": 7,
          "metadata": {},
          "output_type": "execute_result"
        }
      ],
      "source": [
        "df_orders = pd.read_csv('data/orders_dataset.csv')\n",
        "df_orders.head()"
      ]
    },
    {
      "cell_type": "code",
      "execution_count": 8,
      "metadata": {},
      "outputs": [
        {
          "data": {
            "text/html": [
              "<div>\n",
              "<style scoped>\n",
              "    .dataframe tbody tr th:only-of-type {\n",
              "        vertical-align: middle;\n",
              "    }\n",
              "\n",
              "    .dataframe tbody tr th {\n",
              "        vertical-align: top;\n",
              "    }\n",
              "\n",
              "    .dataframe thead th {\n",
              "        text-align: right;\n",
              "    }\n",
              "</style>\n",
              "<table border=\"1\" class=\"dataframe\">\n",
              "  <thead>\n",
              "    <tr style=\"text-align: right;\">\n",
              "      <th></th>\n",
              "      <th>product_category_name</th>\n",
              "      <th>product_category_name_english</th>\n",
              "    </tr>\n",
              "  </thead>\n",
              "  <tbody>\n",
              "    <tr>\n",
              "      <th>0</th>\n",
              "      <td>beleza_saude</td>\n",
              "      <td>health_beauty</td>\n",
              "    </tr>\n",
              "    <tr>\n",
              "      <th>1</th>\n",
              "      <td>informatica_acessorios</td>\n",
              "      <td>computers_accessories</td>\n",
              "    </tr>\n",
              "    <tr>\n",
              "      <th>2</th>\n",
              "      <td>automotivo</td>\n",
              "      <td>auto</td>\n",
              "    </tr>\n",
              "    <tr>\n",
              "      <th>3</th>\n",
              "      <td>cama_mesa_banho</td>\n",
              "      <td>bed_bath_table</td>\n",
              "    </tr>\n",
              "    <tr>\n",
              "      <th>4</th>\n",
              "      <td>moveis_decoracao</td>\n",
              "      <td>furniture_decor</td>\n",
              "    </tr>\n",
              "  </tbody>\n",
              "</table>\n",
              "</div>"
            ],
            "text/plain": [
              "    product_category_name product_category_name_english\n",
              "0            beleza_saude                 health_beauty\n",
              "1  informatica_acessorios         computers_accessories\n",
              "2              automotivo                          auto\n",
              "3         cama_mesa_banho                bed_bath_table\n",
              "4        moveis_decoracao               furniture_decor"
            ]
          },
          "execution_count": 8,
          "metadata": {},
          "output_type": "execute_result"
        }
      ],
      "source": [
        "df_product_category = pd.read_csv('data/product_category_name_translation.csv')\n",
        "df_product_category.head()"
      ]
    },
    {
      "cell_type": "code",
      "execution_count": 9,
      "metadata": {},
      "outputs": [
        {
          "data": {
            "text/html": [
              "<div>\n",
              "<style scoped>\n",
              "    .dataframe tbody tr th:only-of-type {\n",
              "        vertical-align: middle;\n",
              "    }\n",
              "\n",
              "    .dataframe tbody tr th {\n",
              "        vertical-align: top;\n",
              "    }\n",
              "\n",
              "    .dataframe thead th {\n",
              "        text-align: right;\n",
              "    }\n",
              "</style>\n",
              "<table border=\"1\" class=\"dataframe\">\n",
              "  <thead>\n",
              "    <tr style=\"text-align: right;\">\n",
              "      <th></th>\n",
              "      <th>product_id</th>\n",
              "      <th>product_category_name</th>\n",
              "      <th>product_name_lenght</th>\n",
              "      <th>product_description_lenght</th>\n",
              "      <th>product_photos_qty</th>\n",
              "      <th>product_weight_g</th>\n",
              "      <th>product_length_cm</th>\n",
              "      <th>product_height_cm</th>\n",
              "      <th>product_width_cm</th>\n",
              "    </tr>\n",
              "  </thead>\n",
              "  <tbody>\n",
              "    <tr>\n",
              "      <th>0</th>\n",
              "      <td>1e9e8ef04dbcff4541ed26657ea517e5</td>\n",
              "      <td>perfumaria</td>\n",
              "      <td>40.0</td>\n",
              "      <td>287.0</td>\n",
              "      <td>1.0</td>\n",
              "      <td>225.0</td>\n",
              "      <td>16.0</td>\n",
              "      <td>10.0</td>\n",
              "      <td>14.0</td>\n",
              "    </tr>\n",
              "    <tr>\n",
              "      <th>1</th>\n",
              "      <td>3aa071139cb16b67ca9e5dea641aaa2f</td>\n",
              "      <td>artes</td>\n",
              "      <td>44.0</td>\n",
              "      <td>276.0</td>\n",
              "      <td>1.0</td>\n",
              "      <td>1000.0</td>\n",
              "      <td>30.0</td>\n",
              "      <td>18.0</td>\n",
              "      <td>20.0</td>\n",
              "    </tr>\n",
              "    <tr>\n",
              "      <th>2</th>\n",
              "      <td>96bd76ec8810374ed1b65e291975717f</td>\n",
              "      <td>esporte_lazer</td>\n",
              "      <td>46.0</td>\n",
              "      <td>250.0</td>\n",
              "      <td>1.0</td>\n",
              "      <td>154.0</td>\n",
              "      <td>18.0</td>\n",
              "      <td>9.0</td>\n",
              "      <td>15.0</td>\n",
              "    </tr>\n",
              "    <tr>\n",
              "      <th>3</th>\n",
              "      <td>cef67bcfe19066a932b7673e239eb23d</td>\n",
              "      <td>bebes</td>\n",
              "      <td>27.0</td>\n",
              "      <td>261.0</td>\n",
              "      <td>1.0</td>\n",
              "      <td>371.0</td>\n",
              "      <td>26.0</td>\n",
              "      <td>4.0</td>\n",
              "      <td>26.0</td>\n",
              "    </tr>\n",
              "    <tr>\n",
              "      <th>4</th>\n",
              "      <td>9dc1a7de274444849c219cff195d0b71</td>\n",
              "      <td>utilidades_domesticas</td>\n",
              "      <td>37.0</td>\n",
              "      <td>402.0</td>\n",
              "      <td>4.0</td>\n",
              "      <td>625.0</td>\n",
              "      <td>20.0</td>\n",
              "      <td>17.0</td>\n",
              "      <td>13.0</td>\n",
              "    </tr>\n",
              "  </tbody>\n",
              "</table>\n",
              "</div>"
            ],
            "text/plain": [
              "                         product_id  product_category_name  \\\n",
              "0  1e9e8ef04dbcff4541ed26657ea517e5             perfumaria   \n",
              "1  3aa071139cb16b67ca9e5dea641aaa2f                  artes   \n",
              "2  96bd76ec8810374ed1b65e291975717f          esporte_lazer   \n",
              "3  cef67bcfe19066a932b7673e239eb23d                  bebes   \n",
              "4  9dc1a7de274444849c219cff195d0b71  utilidades_domesticas   \n",
              "\n",
              "   product_name_lenght  product_description_lenght  product_photos_qty  \\\n",
              "0                 40.0                       287.0                 1.0   \n",
              "1                 44.0                       276.0                 1.0   \n",
              "2                 46.0                       250.0                 1.0   \n",
              "3                 27.0                       261.0                 1.0   \n",
              "4                 37.0                       402.0                 4.0   \n",
              "\n",
              "   product_weight_g  product_length_cm  product_height_cm  product_width_cm  \n",
              "0             225.0               16.0               10.0              14.0  \n",
              "1            1000.0               30.0               18.0              20.0  \n",
              "2             154.0               18.0                9.0              15.0  \n",
              "3             371.0               26.0                4.0              26.0  \n",
              "4             625.0               20.0               17.0              13.0  "
            ]
          },
          "execution_count": 9,
          "metadata": {},
          "output_type": "execute_result"
        }
      ],
      "source": [
        "df_products = pd.read_csv('data/products_dataset.csv')\n",
        "df_products.head()"
      ]
    },
    {
      "cell_type": "code",
      "execution_count": 10,
      "metadata": {},
      "outputs": [
        {
          "data": {
            "text/html": [
              "<div>\n",
              "<style scoped>\n",
              "    .dataframe tbody tr th:only-of-type {\n",
              "        vertical-align: middle;\n",
              "    }\n",
              "\n",
              "    .dataframe tbody tr th {\n",
              "        vertical-align: top;\n",
              "    }\n",
              "\n",
              "    .dataframe thead th {\n",
              "        text-align: right;\n",
              "    }\n",
              "</style>\n",
              "<table border=\"1\" class=\"dataframe\">\n",
              "  <thead>\n",
              "    <tr style=\"text-align: right;\">\n",
              "      <th></th>\n",
              "      <th>seller_id</th>\n",
              "      <th>seller_zip_code_prefix</th>\n",
              "      <th>seller_city</th>\n",
              "      <th>seller_state</th>\n",
              "    </tr>\n",
              "  </thead>\n",
              "  <tbody>\n",
              "    <tr>\n",
              "      <th>0</th>\n",
              "      <td>3442f8959a84dea7ee197c632cb2df15</td>\n",
              "      <td>13023</td>\n",
              "      <td>campinas</td>\n",
              "      <td>SP</td>\n",
              "    </tr>\n",
              "    <tr>\n",
              "      <th>1</th>\n",
              "      <td>d1b65fc7debc3361ea86b5f14c68d2e2</td>\n",
              "      <td>13844</td>\n",
              "      <td>mogi guacu</td>\n",
              "      <td>SP</td>\n",
              "    </tr>\n",
              "    <tr>\n",
              "      <th>2</th>\n",
              "      <td>ce3ad9de960102d0677a81f5d0bb7b2d</td>\n",
              "      <td>20031</td>\n",
              "      <td>rio de janeiro</td>\n",
              "      <td>RJ</td>\n",
              "    </tr>\n",
              "    <tr>\n",
              "      <th>3</th>\n",
              "      <td>c0f3eea2e14555b6faeea3dd58c1b1c3</td>\n",
              "      <td>4195</td>\n",
              "      <td>sao paulo</td>\n",
              "      <td>SP</td>\n",
              "    </tr>\n",
              "    <tr>\n",
              "      <th>4</th>\n",
              "      <td>51a04a8a6bdcb23deccc82b0b80742cf</td>\n",
              "      <td>12914</td>\n",
              "      <td>braganca paulista</td>\n",
              "      <td>SP</td>\n",
              "    </tr>\n",
              "  </tbody>\n",
              "</table>\n",
              "</div>"
            ],
            "text/plain": [
              "                          seller_id  seller_zip_code_prefix  \\\n",
              "0  3442f8959a84dea7ee197c632cb2df15                   13023   \n",
              "1  d1b65fc7debc3361ea86b5f14c68d2e2                   13844   \n",
              "2  ce3ad9de960102d0677a81f5d0bb7b2d                   20031   \n",
              "3  c0f3eea2e14555b6faeea3dd58c1b1c3                    4195   \n",
              "4  51a04a8a6bdcb23deccc82b0b80742cf                   12914   \n",
              "\n",
              "         seller_city seller_state  \n",
              "0           campinas           SP  \n",
              "1         mogi guacu           SP  \n",
              "2     rio de janeiro           RJ  \n",
              "3          sao paulo           SP  \n",
              "4  braganca paulista           SP  "
            ]
          },
          "execution_count": 10,
          "metadata": {},
          "output_type": "execute_result"
        }
      ],
      "source": [
        "df_sellers = pd.read_csv('data/sellers_dataset.csv')\n",
        "df_sellers.head()"
      ]
    },
    {
      "cell_type": "markdown",
      "metadata": {},
      "source": [
        "**Insight:**\n",
        "- Beberapa dataset telah di-merge dengan tujuan untuk mempermudah analisis sesuai dengan case pertanyaan bisnis yang ada"
      ]
    },
    {
      "cell_type": "markdown",
      "metadata": {
        "id": "FHSiqaZp8DC1"
      },
      "source": [
        "### Assessing Data"
      ]
    },
    {
      "cell_type": "code",
      "execution_count": 11,
      "metadata": {
        "id": "ax-3tEjc9Cj1"
      },
      "outputs": [],
      "source": [
        "def assess_dataset(name, df):\n",
        "    print(f\"\\nMemeriksa dataset: {name}\")\n",
        "    print(f\"Jumlah baris: {df.shape[0]}, Jumlah kolom: {df.shape[1]}\")\n",
        "    \n",
        "    # Informasi tipe data\n",
        "    print(\"\\nTipe data:\")\n",
        "    print(df.dtypes)\n",
        "    \n",
        "    # Memeriksa missing values\n",
        "    missing = df.isnull().sum()\n",
        "    print(\"\\nNilai yang hilang:\")\n",
        "    print(missing[missing > 0] if any(missing > 0) else \"Tidak ada nilai yang hilang\")\n",
        "    \n",
        "    # Memeriksa duplikat\n",
        "    duplicates = df.duplicated().sum()\n",
        "    print(f\"\\nJumlah duplikat: {duplicates}\")\n",
        "    \n",
        "    # Statistik dasar\n",
        "    print(\"\\nStatistik dasar:\")\n",
        "    print(df.describe(include='all').T)\n",
        "    \n",
        "    print(\"-\" * 80)"
      ]
    },
    {
      "cell_type": "code",
      "execution_count": 12,
      "metadata": {},
      "outputs": [
        {
          "name": "stdout",
          "output_type": "stream",
          "text": [
            "\n",
            "Memeriksa dataset: Orders\n",
            "Jumlah baris: 99441, Jumlah kolom: 8\n",
            "\n",
            "Tipe data:\n",
            "order_id                         object\n",
            "customer_id                      object\n",
            "order_status                     object\n",
            "order_purchase_timestamp         object\n",
            "order_approved_at                object\n",
            "order_delivered_carrier_date     object\n",
            "order_delivered_customer_date    object\n",
            "order_estimated_delivery_date    object\n",
            "dtype: object\n",
            "\n",
            "Nilai yang hilang:\n",
            "order_approved_at                 160\n",
            "order_delivered_carrier_date     1783\n",
            "order_delivered_customer_date    2965\n",
            "dtype: int64\n",
            "\n",
            "Jumlah duplikat: 0\n",
            "\n",
            "Statistik dasar:\n",
            "                               count unique                               top  \\\n",
            "order_id                       99441  99441  66dea50a8b16d9b4dee7af250b4be1a5   \n",
            "customer_id                    99441  99441  edb027a75a1449115f6b43211ae02a24   \n",
            "order_status                   99441      8                         delivered   \n",
            "order_purchase_timestamp       99441  98875               2018-08-02 12:05:26   \n",
            "order_approved_at              99281  90733               2018-02-27 04:31:10   \n",
            "order_delivered_carrier_date   97658  81018               2018-05-09 15:48:00   \n",
            "order_delivered_customer_date  96476  95664               2018-05-08 19:36:48   \n",
            "order_estimated_delivery_date  99441    459               2017-12-20 00:00:00   \n",
            "\n",
            "                                freq  \n",
            "order_id                           1  \n",
            "customer_id                        1  \n",
            "order_status                   96478  \n",
            "order_purchase_timestamp           3  \n",
            "order_approved_at                  9  \n",
            "order_delivered_carrier_date      47  \n",
            "order_delivered_customer_date      3  \n",
            "order_estimated_delivery_date    522  \n",
            "--------------------------------------------------------------------------------\n"
          ]
        }
      ],
      "source": [
        "assess_dataset(\"Orders\", df_orders)"
      ]
    },
    {
      "cell_type": "code",
      "execution_count": 13,
      "metadata": {},
      "outputs": [
        {
          "name": "stdout",
          "output_type": "stream",
          "text": [
            "\n",
            "Memeriksa dataset: Order Items\n",
            "Jumlah baris: 112650, Jumlah kolom: 7\n",
            "\n",
            "Tipe data:\n",
            "order_id                object\n",
            "order_item_id            int64\n",
            "product_id              object\n",
            "seller_id               object\n",
            "shipping_limit_date     object\n",
            "price                  float64\n",
            "freight_value          float64\n",
            "dtype: object\n",
            "\n",
            "Nilai yang hilang:\n",
            "Tidak ada nilai yang hilang\n",
            "\n",
            "Jumlah duplikat: 0\n",
            "\n",
            "Statistik dasar:\n",
            "                        count unique                               top  freq  \\\n",
            "order_id               112650  98666  8272b63d03f5f79c56e9e4120aec44ef    21   \n",
            "order_item_id        112650.0    NaN                               NaN   NaN   \n",
            "product_id             112650  32951  aca2eb7d00ea1a7b8ebd4e68314663af   527   \n",
            "seller_id              112650   3095  6560211a19b47992c3666cc44a7e94c0  2033   \n",
            "shipping_limit_date    112650  93318               2017-07-21 18:25:23    21   \n",
            "price                112650.0    NaN                               NaN   NaN   \n",
            "freight_value        112650.0    NaN                               NaN   NaN   \n",
            "\n",
            "                           mean         std   min    25%    50%    75%     max  \n",
            "order_id                    NaN         NaN   NaN    NaN    NaN    NaN     NaN  \n",
            "order_item_id          1.197834    0.705124   1.0    1.0    1.0    1.0    21.0  \n",
            "product_id                  NaN         NaN   NaN    NaN    NaN    NaN     NaN  \n",
            "seller_id                   NaN         NaN   NaN    NaN    NaN    NaN     NaN  \n",
            "shipping_limit_date         NaN         NaN   NaN    NaN    NaN    NaN     NaN  \n",
            "price                120.653739  183.633928  0.85   39.9  74.99  134.9  6735.0  \n",
            "freight_value          19.99032   15.806405   0.0  13.08  16.26  21.15  409.68  \n",
            "--------------------------------------------------------------------------------\n"
          ]
        }
      ],
      "source": [
        "assess_dataset(\"Order Items\", df_order_items)"
      ]
    },
    {
      "cell_type": "code",
      "execution_count": 14,
      "metadata": {},
      "outputs": [
        {
          "name": "stdout",
          "output_type": "stream",
          "text": [
            "\n",
            "Memeriksa dataset: Products\n",
            "Jumlah baris: 32951, Jumlah kolom: 9\n",
            "\n",
            "Tipe data:\n",
            "product_id                     object\n",
            "product_category_name          object\n",
            "product_name_lenght           float64\n",
            "product_description_lenght    float64\n",
            "product_photos_qty            float64\n",
            "product_weight_g              float64\n",
            "product_length_cm             float64\n",
            "product_height_cm             float64\n",
            "product_width_cm              float64\n",
            "dtype: object\n",
            "\n",
            "Nilai yang hilang:\n",
            "product_category_name         610\n",
            "product_name_lenght           610\n",
            "product_description_lenght    610\n",
            "product_photos_qty            610\n",
            "product_weight_g                2\n",
            "product_length_cm               2\n",
            "product_height_cm               2\n",
            "product_width_cm                2\n",
            "dtype: int64\n",
            "\n",
            "Jumlah duplikat: 0\n",
            "\n",
            "Statistik dasar:\n",
            "                              count unique                               top  \\\n",
            "product_id                    32951  32951  106392145fca363410d287a815be6de4   \n",
            "product_category_name         32341     73                   cama_mesa_banho   \n",
            "product_name_lenght         32341.0    NaN                               NaN   \n",
            "product_description_lenght  32341.0    NaN                               NaN   \n",
            "product_photos_qty          32341.0    NaN                               NaN   \n",
            "product_weight_g            32949.0    NaN                               NaN   \n",
            "product_length_cm           32949.0    NaN                               NaN   \n",
            "product_height_cm           32949.0    NaN                               NaN   \n",
            "product_width_cm            32949.0    NaN                               NaN   \n",
            "\n",
            "                            freq         mean          std  min    25%    50%  \\\n",
            "product_id                     1          NaN          NaN  NaN    NaN    NaN   \n",
            "product_category_name       3029          NaN          NaN  NaN    NaN    NaN   \n",
            "product_name_lenght          NaN    48.476949    10.245741  5.0   42.0   51.0   \n",
            "product_description_lenght   NaN   771.495285   635.115225  4.0  339.0  595.0   \n",
            "product_photos_qty           NaN     2.188986     1.736766  1.0    1.0    1.0   \n",
            "product_weight_g             NaN  2276.472488  4282.038731  0.0  300.0  700.0   \n",
            "product_length_cm            NaN    30.815078    16.914458  7.0   18.0   25.0   \n",
            "product_height_cm            NaN    16.937661    13.637554  2.0    8.0   13.0   \n",
            "product_width_cm             NaN    23.196728    12.079047  6.0   15.0   20.0   \n",
            "\n",
            "                               75%      max  \n",
            "product_id                     NaN      NaN  \n",
            "product_category_name          NaN      NaN  \n",
            "product_name_lenght           57.0     76.0  \n",
            "product_description_lenght   972.0   3992.0  \n",
            "product_photos_qty             3.0     20.0  \n",
            "product_weight_g            1900.0  40425.0  \n",
            "product_length_cm             38.0    105.0  \n",
            "product_height_cm             21.0    105.0  \n",
            "product_width_cm              30.0    118.0  \n",
            "--------------------------------------------------------------------------------\n"
          ]
        }
      ],
      "source": [
        "assess_dataset(\"Products\", df_products)"
      ]
    },
    {
      "cell_type": "code",
      "execution_count": 15,
      "metadata": {},
      "outputs": [
        {
          "name": "stdout",
          "output_type": "stream",
          "text": [
            "\n",
            "Memeriksa dataset: Customers\n",
            "Jumlah baris: 99441, Jumlah kolom: 5\n",
            "\n",
            "Tipe data:\n",
            "customer_id                 object\n",
            "customer_unique_id          object\n",
            "customer_zip_code_prefix     int64\n",
            "customer_city               object\n",
            "customer_state              object\n",
            "dtype: object\n",
            "\n",
            "Nilai yang hilang:\n",
            "Tidak ada nilai yang hilang\n",
            "\n",
            "Jumlah duplikat: 0\n",
            "\n",
            "Statistik dasar:\n",
            "                            count unique                               top  \\\n",
            "customer_id                 99441  99441  274fa6071e5e17fe303b9748641082c8   \n",
            "customer_unique_id          99441  96096  8d50f5eadf50201ccdcedfb9e2ac8455   \n",
            "customer_zip_code_prefix  99441.0    NaN                               NaN   \n",
            "customer_city               99441   4119                         sao paulo   \n",
            "customer_state              99441     27                                SP   \n",
            "\n",
            "                           freq          mean           std     min      25%  \\\n",
            "customer_id                   1           NaN           NaN     NaN      NaN   \n",
            "customer_unique_id           17           NaN           NaN     NaN      NaN   \n",
            "customer_zip_code_prefix    NaN  35137.474583  29797.938996  1003.0  11347.0   \n",
            "customer_city             15540           NaN           NaN     NaN      NaN   \n",
            "customer_state            41746           NaN           NaN     NaN      NaN   \n",
            "\n",
            "                              50%      75%      max  \n",
            "customer_id                   NaN      NaN      NaN  \n",
            "customer_unique_id            NaN      NaN      NaN  \n",
            "customer_zip_code_prefix  24416.0  58900.0  99990.0  \n",
            "customer_city                 NaN      NaN      NaN  \n",
            "customer_state                NaN      NaN      NaN  \n",
            "--------------------------------------------------------------------------------\n"
          ]
        }
      ],
      "source": [
        "assess_dataset(\"Customers\", df_customers)"
      ]
    },
    {
      "cell_type": "code",
      "execution_count": 16,
      "metadata": {},
      "outputs": [
        {
          "name": "stdout",
          "output_type": "stream",
          "text": [
            "\n",
            "Memeriksa dataset: Payments\n",
            "Jumlah baris: 103886, Jumlah kolom: 5\n",
            "\n",
            "Tipe data:\n",
            "order_id                 object\n",
            "payment_sequential        int64\n",
            "payment_type             object\n",
            "payment_installments      int64\n",
            "payment_value           float64\n",
            "dtype: object\n",
            "\n",
            "Nilai yang hilang:\n",
            "Tidak ada nilai yang hilang\n",
            "\n",
            "Jumlah duplikat: 0\n",
            "\n",
            "Statistik dasar:\n",
            "                         count unique                               top  \\\n",
            "order_id                103886  99440  fa65dad1b0e818e3ccc5cb0e39231352   \n",
            "payment_sequential    103886.0    NaN                               NaN   \n",
            "payment_type            103886      5                       credit_card   \n",
            "payment_installments  103886.0    NaN                               NaN   \n",
            "payment_value         103886.0    NaN                               NaN   \n",
            "\n",
            "                       freq       mean         std  min    25%    50%  \\\n",
            "order_id                 29        NaN         NaN  NaN    NaN    NaN   \n",
            "payment_sequential      NaN   1.092679    0.706584  1.0    1.0    1.0   \n",
            "payment_type          76795        NaN         NaN  NaN    NaN    NaN   \n",
            "payment_installments    NaN   2.853349    2.687051  0.0    1.0    1.0   \n",
            "payment_value           NaN  154.10038  217.494064  0.0  56.79  100.0   \n",
            "\n",
            "                           75%       max  \n",
            "order_id                   NaN       NaN  \n",
            "payment_sequential         1.0      29.0  \n",
            "payment_type               NaN       NaN  \n",
            "payment_installments       4.0      24.0  \n",
            "payment_value         171.8375  13664.08  \n",
            "--------------------------------------------------------------------------------\n"
          ]
        }
      ],
      "source": [
        "assess_dataset(\"Payments\", df_order_payments)"
      ]
    },
    {
      "cell_type": "code",
      "execution_count": 17,
      "metadata": {},
      "outputs": [
        {
          "name": "stdout",
          "output_type": "stream",
          "text": [
            "\n",
            "Memeriksa dataset: Reviews\n",
            "Jumlah baris: 99224, Jumlah kolom: 7\n",
            "\n",
            "Tipe data:\n",
            "review_id                  object\n",
            "order_id                   object\n",
            "review_score                int64\n",
            "review_comment_title       object\n",
            "review_comment_message     object\n",
            "review_creation_date       object\n",
            "review_answer_timestamp    object\n",
            "dtype: object\n",
            "\n",
            "Nilai yang hilang:\n",
            "review_comment_title      87656\n",
            "review_comment_message    58247\n",
            "dtype: int64\n",
            "\n",
            "Jumlah duplikat: 0\n",
            "\n",
            "Statistik dasar:\n",
            "                           count unique                               top  \\\n",
            "review_id                  99224  98410  08528f70f579f0c830189efc523d2182   \n",
            "order_id                   99224  98673  df56136b8031ecd28e200bb18e6ddb2e   \n",
            "review_score             99224.0    NaN                               NaN   \n",
            "review_comment_title       11568   4527                         Recomendo   \n",
            "review_comment_message     40977  36159                         Muito bom   \n",
            "review_creation_date       99224    636               2017-12-19 00:00:00   \n",
            "review_answer_timestamp    99224  98248               2017-06-15 23:21:05   \n",
            "\n",
            "                        freq      mean       std  min  25%  50%  75%  max  \n",
            "review_id                  3       NaN       NaN  NaN  NaN  NaN  NaN  NaN  \n",
            "order_id                   3       NaN       NaN  NaN  NaN  NaN  NaN  NaN  \n",
            "review_score             NaN  4.086421  1.347579  1.0  4.0  5.0  5.0  5.0  \n",
            "review_comment_title     423       NaN       NaN  NaN  NaN  NaN  NaN  NaN  \n",
            "review_comment_message   230       NaN       NaN  NaN  NaN  NaN  NaN  NaN  \n",
            "review_creation_date     463       NaN       NaN  NaN  NaN  NaN  NaN  NaN  \n",
            "review_answer_timestamp    4       NaN       NaN  NaN  NaN  NaN  NaN  NaN  \n",
            "--------------------------------------------------------------------------------\n"
          ]
        }
      ],
      "source": [
        "assess_dataset(\"Reviews\", df_order_reviews)"
      ]
    },
    {
      "cell_type": "code",
      "execution_count": 18,
      "metadata": {},
      "outputs": [
        {
          "name": "stdout",
          "output_type": "stream",
          "text": [
            "\n",
            "Memeriksa dataset: Product Category\n",
            "Jumlah baris: 71, Jumlah kolom: 2\n",
            "\n",
            "Tipe data:\n",
            "product_category_name            object\n",
            "product_category_name_english    object\n",
            "dtype: object\n",
            "\n",
            "Nilai yang hilang:\n",
            "Tidak ada nilai yang hilang\n",
            "\n",
            "Jumlah duplikat: 0\n",
            "\n",
            "Statistik dasar:\n",
            "                              count unique            top freq\n",
            "product_category_name            71     71   beleza_saude    1\n",
            "product_category_name_english    71     71  health_beauty    1\n",
            "--------------------------------------------------------------------------------\n"
          ]
        }
      ],
      "source": [
        "assess_dataset(\"Product Category\", df_product_category)"
      ]
    },
    {
      "cell_type": "markdown",
      "metadata": {
        "id": "EhN5R4hr8DC1"
      },
      "source": [
        "### Cleaning Data"
      ]
    },
    {
      "cell_type": "markdown",
      "metadata": {},
      "source": [
        "#### Cleaning Orders Dataset"
      ]
    },
    {
      "cell_type": "code",
      "execution_count": 19,
      "metadata": {
        "id": "jVnYpprE9Evz"
      },
      "outputs": [],
      "source": [
        "# Konversi semua kolom timestamp ke datetime\n",
        "timestamp_columns = ['order_purchase_timestamp', 'order_approved_at', 'order_delivered_carrier_date', 'order_delivered_customer_date', 'order_estimated_delivery_date']\n",
        "for col in timestamp_columns:\n",
        "    if col in df_orders.columns:\n",
        "        df_orders[col] = pd.to_datetime(df_orders[col], errors='coerce')"
      ]
    },
    {
      "cell_type": "code",
      "execution_count": 20,
      "metadata": {},
      "outputs": [],
      "source": [
        "# Menangani missing values pada kolom timestamp\n",
        "# Untuk analisis tren, kita hanya perlu order_purchase_timestamp yang lengkap\n",
        "missing_purchase = df_orders['order_purchase_timestamp'].isnull().sum()\n",
        "if missing_purchase > 0:\n",
        "    print(f\"Menghapus {missing_purchase} baris dengan order_purchase_timestamp yang hilang\")\n",
        "    df_orders = df_orders.dropna(subset=['order_purchase_timestamp'])\n"
      ]
    },
    {
      "cell_type": "code",
      "execution_count": 21,
      "metadata": {},
      "outputs": [
        {
          "name": "stdout",
          "output_type": "stream",
          "text": [
            "Menghapus kolom yang tidak digunakan: ['order_approved_at', 'order_delivered_carrier_date']\n"
          ]
        }
      ],
      "source": [
        "# Menghapus kolom yang tidak digunakan dalam analisis\n",
        "unused_columns_orders = [\"order_approved_at\", \"order_delivered_carrier_date\"]  # Tentukan kolom yang tidak digunakan\n",
        "df_orders = df_orders.drop(columns=unused_columns_orders)\n",
        "print(f\"Menghapus kolom yang tidak digunakan: {unused_columns_orders}\")"
      ]
    },
    {
      "cell_type": "code",
      "execution_count": 22,
      "metadata": {},
      "outputs": [
        {
          "name": "stdout",
          "output_type": "stream",
          "text": [
            "<class 'pandas.core.frame.DataFrame'>\n",
            "RangeIndex: 99441 entries, 0 to 99440\n",
            "Data columns (total 6 columns):\n",
            " #   Column                         Non-Null Count  Dtype         \n",
            "---  ------                         --------------  -----         \n",
            " 0   order_id                       99441 non-null  object        \n",
            " 1   customer_id                    99441 non-null  object        \n",
            " 2   order_status                   99441 non-null  object        \n",
            " 3   order_purchase_timestamp       99441 non-null  datetime64[ns]\n",
            " 4   order_delivered_customer_date  96476 non-null  datetime64[ns]\n",
            " 5   order_estimated_delivery_date  99441 non-null  datetime64[ns]\n",
            "dtypes: datetime64[ns](3), object(3)\n",
            "memory usage: 4.6+ MB\n"
          ]
        }
      ],
      "source": [
        "df_orders.info()"
      ]
    },
    {
      "cell_type": "markdown",
      "metadata": {},
      "source": [
        "#### Cleaning Order Items Dataset"
      ]
    },
    {
      "cell_type": "code",
      "execution_count": 23,
      "metadata": {},
      "outputs": [],
      "source": [
        "# Periksa nilai negatif atau nol pada price dan freight_value\n",
        "invalid_price = (df_order_items['price'] <= 0).sum()\n",
        "invalid_freight = (df_order_items['freight_value'] < 0).sum()\n",
        "if invalid_price > 0:\n",
        "    print(f\"Menghapus {invalid_price} baris dengan price <= 0\")\n",
        "    df_order_items = df_order_items[df_order_items['price'] > 0]\n",
        "if invalid_freight > 0:\n",
        "    print(f\"Menghapus {invalid_freight} baris dengan freight_value < 0\")\n",
        "    df_order_items = df_order_items[df_order_items['freight_value'] >= 0]"
      ]
    },
    {
      "cell_type": "code",
      "execution_count": 24,
      "metadata": {},
      "outputs": [
        {
          "name": "stdout",
          "output_type": "stream",
          "text": [
            "Menghapus kolom yang tidak digunakan: ['shipping_limit_date']\n"
          ]
        }
      ],
      "source": [
        "# Menghapus kolom yang tidak digunakan dalam analisis\n",
        "unused_columns_orders = [\"shipping_limit_date\"]  # Tentukan kolom yang tidak digunakan\n",
        "df_order_items = df_order_items.drop(columns=unused_columns_orders)\n",
        "print(f\"Menghapus kolom yang tidak digunakan: {unused_columns_orders}\")"
      ]
    },
    {
      "cell_type": "code",
      "execution_count": 25,
      "metadata": {},
      "outputs": [
        {
          "name": "stdout",
          "output_type": "stream",
          "text": [
            "<class 'pandas.core.frame.DataFrame'>\n",
            "RangeIndex: 112650 entries, 0 to 112649\n",
            "Data columns (total 6 columns):\n",
            " #   Column         Non-Null Count   Dtype  \n",
            "---  ------         --------------   -----  \n",
            " 0   order_id       112650 non-null  object \n",
            " 1   order_item_id  112650 non-null  int64  \n",
            " 2   product_id     112650 non-null  object \n",
            " 3   seller_id      112650 non-null  object \n",
            " 4   price          112650 non-null  float64\n",
            " 5   freight_value  112650 non-null  float64\n",
            "dtypes: float64(2), int64(1), object(3)\n",
            "memory usage: 5.2+ MB\n"
          ]
        }
      ],
      "source": [
        "df_order_items.info()"
      ]
    },
    {
      "cell_type": "markdown",
      "metadata": {},
      "source": [
        "#### Cleaning Products Dataset"
      ]
    },
    {
      "cell_type": "code",
      "execution_count": 26,
      "metadata": {},
      "outputs": [
        {
          "name": "stdout",
          "output_type": "stream",
          "text": [
            "Menghapus kolom yang tidak digunakan: ['product_name_lenght', 'product_description_lenght', 'product_photos_qty', 'product_weight_g', 'product_length_cm', 'product_height_cm', 'product_width_cm']\n"
          ]
        }
      ],
      "source": [
        "# Menghapus kolom yang tidak digunakan dalam analisis\n",
        "unused_columns_orders = [\"product_name_lenght\", \"product_description_lenght\", \"product_photos_qty\", \"product_weight_g\",\n",
        "                         \"product_length_cm\", \"product_height_cm\", \"product_width_cm\"]  # Tentukan kolom yang tidak digunakan\n",
        "df_products = df_products.drop(columns=unused_columns_orders)\n",
        "print(f\"Menghapus kolom yang tidak digunakan: {unused_columns_orders}\")"
      ]
    },
    {
      "cell_type": "code",
      "execution_count": 27,
      "metadata": {},
      "outputs": [],
      "source": [
        "df_products_categories = df_products.merge(df_product_category, on=\"product_category_name\", how=\"left\")"
      ]
    },
    {
      "cell_type": "code",
      "execution_count": 28,
      "metadata": {},
      "outputs": [
        {
          "name": "stdout",
          "output_type": "stream",
          "text": [
            "Terdapat 623 produk tanpa kategori\n"
          ]
        }
      ],
      "source": [
        "# Menangani product_category_name_english yang hilang\n",
        "missing_category = df_products_categories['product_category_name_english'].isnull().sum()\n",
        "if missing_category > 0:\n",
        "    print(f\"Terdapat {missing_category} produk tanpa kategori\")\n",
        "    df_products_categories['product_category_name_english'] = df_products_categories['product_category_name_english'].fillna('unknown')"
      ]
    },
    {
      "cell_type": "code",
      "execution_count": 29,
      "metadata": {},
      "outputs": [
        {
          "name": "stdout",
          "output_type": "stream",
          "text": [
            "<class 'pandas.core.frame.DataFrame'>\n",
            "RangeIndex: 32951 entries, 0 to 32950\n",
            "Data columns (total 3 columns):\n",
            " #   Column                         Non-Null Count  Dtype \n",
            "---  ------                         --------------  ----- \n",
            " 0   product_id                     32951 non-null  object\n",
            " 1   product_category_name          32341 non-null  object\n",
            " 2   product_category_name_english  32951 non-null  object\n",
            "dtypes: object(3)\n",
            "memory usage: 772.4+ KB\n"
          ]
        }
      ],
      "source": [
        "df_products_categories.info()"
      ]
    },
    {
      "cell_type": "markdown",
      "metadata": {},
      "source": [
        "#### Cleaning Customers Dataset"
      ]
    },
    {
      "cell_type": "code",
      "execution_count": 30,
      "metadata": {},
      "outputs": [
        {
          "name": "stdout",
          "output_type": "stream",
          "text": [
            "Ditemukan 3345 customer_unique_id duplikat (asumsi pelanggan dengan multiple accounts)\n"
          ]
        }
      ],
      "source": [
        "# Memeriksa duplicate customer_unique_id\n",
        "duplicate_customers = df_customers.duplicated(subset=['customer_unique_id']).sum()\n",
        "if duplicate_customers > 0:\n",
        "    print(f\"Ditemukan {duplicate_customers} customer_unique_id duplikat (asumsi pelanggan dengan multiple accounts)\")"
      ]
    },
    {
      "cell_type": "code",
      "execution_count": 31,
      "metadata": {},
      "outputs": [
        {
          "name": "stdout",
          "output_type": "stream",
          "text": [
            "<class 'pandas.core.frame.DataFrame'>\n",
            "RangeIndex: 99441 entries, 0 to 99440\n",
            "Data columns (total 5 columns):\n",
            " #   Column                    Non-Null Count  Dtype \n",
            "---  ------                    --------------  ----- \n",
            " 0   customer_id               99441 non-null  object\n",
            " 1   customer_unique_id        99441 non-null  object\n",
            " 2   customer_zip_code_prefix  99441 non-null  int64 \n",
            " 3   customer_city             99441 non-null  object\n",
            " 4   customer_state            99441 non-null  object\n",
            "dtypes: int64(1), object(4)\n",
            "memory usage: 3.8+ MB\n"
          ]
        }
      ],
      "source": [
        "df_customers.info()"
      ]
    },
    {
      "cell_type": "markdown",
      "metadata": {},
      "source": [
        "#### Cleaning Payments Dataset"
      ]
    },
    {
      "cell_type": "code",
      "execution_count": 32,
      "metadata": {},
      "outputs": [
        {
          "name": "stdout",
          "output_type": "stream",
          "text": [
            "Menghapus kolom yang tidak digunakan: ['payment_sequential', 'payment_installments']\n"
          ]
        }
      ],
      "source": [
        "# Menghapus kolom yang tidak digunakan dalam analisis\n",
        "unused_columns_orders = [\"payment_sequential\", \"payment_installments\"]  # Tentukan kolom yang tidak digunakan\n",
        "df_order_payments = df_order_payments.drop(columns=unused_columns_orders)\n",
        "print(f\"Menghapus kolom yang tidak digunakan: {unused_columns_orders}\")"
      ]
    },
    {
      "cell_type": "code",
      "execution_count": 33,
      "metadata": {},
      "outputs": [
        {
          "name": "stdout",
          "output_type": "stream",
          "text": [
            "                               order_id payment_type  payment_value\n",
            "51280  4637ca194b6387e2d538dc89b124b0ee  not_defined            0.0\n",
            "57411  00b1cb0320190ca0daa2c88b35206009  not_defined            0.0\n",
            "94427  c8c528189310eaa44a745b8d9d26908b  not_defined            0.0\n"
          ]
        }
      ],
      "source": [
        "print(df_order_payments[df_order_payments['payment_type'] == \"not_defined\"])"
      ]
    },
    {
      "cell_type": "code",
      "execution_count": 34,
      "metadata": {},
      "outputs": [],
      "source": [
        "df_order_payments = df_order_payments[df_order_payments['payment_type'] != \"not_defined\"]"
      ]
    },
    {
      "cell_type": "code",
      "execution_count": 35,
      "metadata": {},
      "outputs": [
        {
          "name": "stdout",
          "output_type": "stream",
          "text": [
            "<class 'pandas.core.frame.DataFrame'>\n",
            "Index: 103883 entries, 0 to 103885\n",
            "Data columns (total 3 columns):\n",
            " #   Column         Non-Null Count   Dtype  \n",
            "---  ------         --------------   -----  \n",
            " 0   order_id       103883 non-null  object \n",
            " 1   payment_type   103883 non-null  object \n",
            " 2   payment_value  103883 non-null  float64\n",
            "dtypes: float64(1), object(2)\n",
            "memory usage: 3.2+ MB\n"
          ]
        }
      ],
      "source": [
        "df_order_payments.info()"
      ]
    },
    {
      "cell_type": "markdown",
      "metadata": {},
      "source": [
        "#### Cleaning Reviews Dataset"
      ]
    },
    {
      "cell_type": "code",
      "execution_count": 36,
      "metadata": {},
      "outputs": [
        {
          "name": "stdout",
          "output_type": "stream",
          "text": [
            "Menghapus kolom yang tidak digunakan: ['review_comment_title', 'review_comment_message', 'review_creation_date', 'review_answer_timestamp']\n"
          ]
        }
      ],
      "source": [
        "# Menghapus kolom yang tidak digunakan dalam analisis\n",
        "unused_columns_orders = [\"review_comment_title\", \"review_comment_message\", \"review_creation_date\", \"review_answer_timestamp\"]  # Tentukan kolom yang tidak digunakan\n",
        "df_order_reviews = df_order_reviews.drop(columns=unused_columns_orders)\n",
        "print(f\"Menghapus kolom yang tidak digunakan: {unused_columns_orders}\")"
      ]
    },
    {
      "cell_type": "code",
      "execution_count": 37,
      "metadata": {},
      "outputs": [],
      "source": [
        "# Periksa skor ulasan yang tidak valid (di luar rentang 1-5)\n",
        "if 'review_score' in df_order_reviews.columns:\n",
        "    invalid_scores = ((df_order_reviews['review_score'] < 1) | (df_order_reviews['review_score'] > 5)).sum()\n",
        "    if invalid_scores > 0:\n",
        "        print(f\"Menghapus {invalid_scores} baris dengan review_score di luar rentang 1-5\")\n",
        "        df_order_reviews = df_order_reviews[(df_order_reviews['review_score'] >= 1) & (df_order_reviews['review_score'] <= 5)]"
      ]
    },
    {
      "cell_type": "code",
      "execution_count": 38,
      "metadata": {},
      "outputs": [
        {
          "name": "stdout",
          "output_type": "stream",
          "text": [
            "<class 'pandas.core.frame.DataFrame'>\n",
            "RangeIndex: 99224 entries, 0 to 99223\n",
            "Data columns (total 3 columns):\n",
            " #   Column        Non-Null Count  Dtype \n",
            "---  ------        --------------  ----- \n",
            " 0   review_id     99224 non-null  object\n",
            " 1   order_id      99224 non-null  object\n",
            " 2   review_score  99224 non-null  int64 \n",
            "dtypes: int64(1), object(2)\n",
            "memory usage: 2.3+ MB\n"
          ]
        }
      ],
      "source": [
        "df_order_reviews.info()"
      ]
    },
    {
      "cell_type": "markdown",
      "metadata": {},
      "source": [
        "#### Cleaning Sellers Dataset"
      ]
    },
    {
      "cell_type": "code",
      "execution_count": 39,
      "metadata": {},
      "outputs": [],
      "source": [
        "# Memeriksa duplikat\n",
        "duplicate_sellers = df_sellers.duplicated(subset=['seller_id']).sum()\n",
        "if duplicate_sellers > 0:\n",
        "    print(f\"Menghapus {duplicate_sellers} baris duplikat seller_id\")\n",
        "    df_sellers = df_sellers.drop_duplicates(subset=['seller_id'])"
      ]
    },
    {
      "cell_type": "code",
      "execution_count": 40,
      "metadata": {},
      "outputs": [
        {
          "name": "stdout",
          "output_type": "stream",
          "text": [
            "<class 'pandas.core.frame.DataFrame'>\n",
            "RangeIndex: 3095 entries, 0 to 3094\n",
            "Data columns (total 4 columns):\n",
            " #   Column                  Non-Null Count  Dtype \n",
            "---  ------                  --------------  ----- \n",
            " 0   seller_id               3095 non-null   object\n",
            " 1   seller_zip_code_prefix  3095 non-null   int64 \n",
            " 2   seller_city             3095 non-null   object\n",
            " 3   seller_state            3095 non-null   object\n",
            "dtypes: int64(1), object(3)\n",
            "memory usage: 96.8+ KB\n"
          ]
        }
      ],
      "source": [
        "df_sellers.info()"
      ]
    },
    {
      "cell_type": "markdown",
      "metadata": {},
      "source": [
        "#### Cleaning Geolocation Dataset"
      ]
    },
    {
      "cell_type": "code",
      "execution_count": 41,
      "metadata": {},
      "outputs": [],
      "source": [
        "# Periksa koordinat yang tidak valid\n",
        "invalid_coords = ((df_geolocation['geolocation_lat'].isnull()) | (df_geolocation['geolocation_lng'].isnull())).sum()\n",
        "if invalid_coords > 0:\n",
        "    print(f\"Menghapus {invalid_coords} baris dengan koordinat yang tidak valid\")\n",
        "    df_geolocation = df_geolocation.dropna(subset=['geolocation_lat', 'geolocation_lng'])\n"
      ]
    },
    {
      "cell_type": "code",
      "execution_count": 42,
      "metadata": {},
      "outputs": [
        {
          "name": "stdout",
          "output_type": "stream",
          "text": [
            "Terdapat 981148 kode pos duplikat, mengambil nilai pertama untuk setiap kode pos\n"
          ]
        }
      ],
      "source": [
        "# Menghapus duplikat kombinasi zipcode\n",
        "duplicate_zips = df_geolocation.duplicated(subset=['geolocation_zip_code_prefix']).sum()\n",
        "if duplicate_zips > 0:\n",
        "    print(f\"Terdapat {duplicate_zips} kode pos duplikat, mengambil nilai pertama untuk setiap kode pos\")\n",
        "    df_geolocation = df_geolocation.drop_duplicates(subset=['geolocation_zip_code_prefix'])\n"
      ]
    },
    {
      "cell_type": "code",
      "execution_count": 43,
      "metadata": {},
      "outputs": [
        {
          "name": "stdout",
          "output_type": "stream",
          "text": [
            "<class 'pandas.core.frame.DataFrame'>\n",
            "Index: 19015 entries, 0 to 999846\n",
            "Data columns (total 5 columns):\n",
            " #   Column                       Non-Null Count  Dtype  \n",
            "---  ------                       --------------  -----  \n",
            " 0   geolocation_zip_code_prefix  19015 non-null  int64  \n",
            " 1   geolocation_lat              19015 non-null  float64\n",
            " 2   geolocation_lng              19015 non-null  float64\n",
            " 3   geolocation_city             19015 non-null  object \n",
            " 4   geolocation_state            19015 non-null  object \n",
            "dtypes: float64(2), int64(1), object(2)\n",
            "memory usage: 891.3+ KB\n"
          ]
        }
      ],
      "source": [
        "df_geolocation.info()"
      ]
    },
    {
      "cell_type": "markdown",
      "metadata": {},
      "source": [
        "#### Merge Data After Cleaning"
      ]
    },
    {
      "cell_type": "code",
      "execution_count": 44,
      "metadata": {},
      "outputs": [
        {
          "name": "stdout",
          "output_type": "stream",
          "text": [
            "<class 'pandas.core.frame.DataFrame'>\n",
            "RangeIndex: 112650 entries, 0 to 112649\n",
            "Data columns (total 8 columns):\n",
            " #   Column                         Non-Null Count   Dtype  \n",
            "---  ------                         --------------   -----  \n",
            " 0   order_id                       112650 non-null  object \n",
            " 1   order_item_id                  112650 non-null  int64  \n",
            " 2   product_id                     112650 non-null  object \n",
            " 3   seller_id                      112650 non-null  object \n",
            " 4   price                          112650 non-null  float64\n",
            " 5   freight_value                  112650 non-null  float64\n",
            " 6   product_category_name          111047 non-null  object \n",
            " 7   product_category_name_english  112650 non-null  object \n",
            "dtypes: float64(2), int64(1), object(5)\n",
            "memory usage: 6.9+ MB\n"
          ]
        }
      ],
      "source": [
        "# Menggabungkan order_items dengan products untuk analisis penjualan per kategori\n",
        "items_with_product = df_order_items.merge(\n",
        "    df_products_categories[['product_id', 'product_category_name', 'product_category_name_english']],\n",
        "    on='product_id',\n",
        "    how='left'\n",
        ")\n",
        "\n",
        "items_with_product.info()"
      ]
    },
    {
      "cell_type": "code",
      "execution_count": 45,
      "metadata": {},
      "outputs": [],
      "source": [
        "# Menggabungkan orders dengan customers untuk analisis demografi\n",
        "orders_with_customer = df_orders.merge(\n",
        "    df_customers[['customer_id', 'customer_city', 'customer_state']],\n",
        "    on='customer_id',\n",
        "    how='left'\n",
        ")"
      ]
    },
    {
      "cell_type": "code",
      "execution_count": 46,
      "metadata": {},
      "outputs": [
        {
          "name": "stdout",
          "output_type": "stream",
          "text": [
            "<class 'pandas.core.frame.DataFrame'>\n",
            "RangeIndex: 99441 entries, 0 to 99440\n",
            "Data columns (total 4 columns):\n",
            " #   Column          Non-Null Count  Dtype \n",
            "---  ------          --------------  ----- \n",
            " 0   order_id        99441 non-null  object\n",
            " 1   customer_id     99441 non-null  object\n",
            " 2   customer_city   99441 non-null  object\n",
            " 3   customer_state  99441 non-null  object\n",
            "dtypes: object(4)\n",
            "memory usage: 3.0+ MB\n"
          ]
        }
      ],
      "source": [
        "# Menghapus kolom yang tidak digunakan dalam analisis\n",
        "unused_columns_orders = [\"order_status\", \"order_purchase_timestamp\", \"order_delivered_customer_date\", \"order_estimated_delivery_date\"]  # Tentukan kolom yang tidak digunakan\n",
        "orders_with_customer = orders_with_customer.drop(columns=unused_columns_orders)\n",
        "orders_with_customer.info()"
      ]
    },
    {
      "cell_type": "code",
      "execution_count": 47,
      "metadata": {},
      "outputs": [
        {
          "name": "stdout",
          "output_type": "stream",
          "text": [
            "<class 'pandas.core.frame.DataFrame'>\n",
            "RangeIndex: 119143 entries, 0 to 119142\n",
            "Data columns (total 20 columns):\n",
            " #   Column                         Non-Null Count   Dtype         \n",
            "---  ------                         --------------   -----         \n",
            " 0   order_id                       119143 non-null  object        \n",
            " 1   customer_id_x                  119143 non-null  object        \n",
            " 2   order_status                   119143 non-null  object        \n",
            " 3   order_purchase_timestamp       119143 non-null  datetime64[ns]\n",
            " 4   order_delivered_customer_date  115722 non-null  datetime64[ns]\n",
            " 5   order_estimated_delivery_date  119143 non-null  datetime64[ns]\n",
            " 6   order_item_id                  118310 non-null  float64       \n",
            " 7   product_id                     118310 non-null  object        \n",
            " 8   seller_id                      118310 non-null  object        \n",
            " 9   price                          118310 non-null  float64       \n",
            " 10  freight_value                  118310 non-null  float64       \n",
            " 11  product_category_name          116601 non-null  object        \n",
            " 12  product_category_name_english  118310 non-null  object        \n",
            " 13  payment_type                   119137 non-null  object        \n",
            " 14  payment_value                  119137 non-null  float64       \n",
            " 15  review_id                      118146 non-null  object        \n",
            " 16  review_score                   118146 non-null  float64       \n",
            " 17  customer_id_y                  119143 non-null  object        \n",
            " 18  customer_city                  119143 non-null  object        \n",
            " 19  customer_state                 119143 non-null  object        \n",
            "dtypes: datetime64[ns](3), float64(5), object(12)\n",
            "memory usage: 18.2+ MB\n"
          ]
        }
      ],
      "source": [
        "# Merge df_orders dengan items_with_product (One-to-Many)\n",
        "all_df = pd.merge(df_orders, items_with_product, on=\"order_id\", how=\"left\")\n",
        "\n",
        "# Merge dengan df_order_payments (One-to-Many)\n",
        "all_df = pd.merge(all_df, df_order_payments, on=\"order_id\", how=\"left\")\n",
        "\n",
        "# Merge dengan df_order_reviews (One-to-One atau One-to-Zero)\n",
        "all_df = pd.merge(all_df, df_order_reviews, on=\"order_id\", how=\"left\")\n",
        "\n",
        "# Merge dengan orders_with_customer (One-to-One)\n",
        "all_df = pd.merge(all_df, orders_with_customer, on=\"order_id\", how=\"left\")\n",
        "\n",
        "# Cek hasil akhir\n",
        "all_df.info()\n",
        "\n",
        "all_df.to_csv(\"all_data.csv\", index=False)"
      ]
    },
    {
      "cell_type": "markdown",
      "metadata": {
        "id": "gp-Y6wU38DC1"
      },
      "source": [
        "## Exploratory Data Analysis (EDA)"
      ]
    },
    {
      "cell_type": "markdown",
      "metadata": {
        "id": "MW7WF2kr8DC1"
      },
      "source": [
        "### Explore Orders Dataset"
      ]
    },
    {
      "cell_type": "code",
      "execution_count": 48,
      "metadata": {
        "id": "e9CQCZjk8DC2"
      },
      "outputs": [
        {
          "name": "stdout",
          "output_type": "stream",
          "text": [
            "\n",
            "Distribusi status pesanan:\n",
            "order_status\n",
            "delivered      96478\n",
            "shipped         1107\n",
            "canceled         625\n",
            "unavailable      609\n",
            "invoiced         314\n",
            "processing       301\n",
            "created            5\n",
            "approved           2\n",
            "Name: count, dtype: int64\n",
            "Persentase pesanan yang berhasil diselesaikan: 97.02%\n"
          ]
        }
      ],
      "source": [
        "# Distribusi status pesanan\n",
        "order_status_counts = df_orders['order_status'].value_counts()\n",
        "print(\"\\nDistribusi status pesanan:\")\n",
        "print(order_status_counts)\n",
        "print(f\"Persentase pesanan yang berhasil diselesaikan: {order_status_counts['delivered'] / len(df_orders) * 100:.2f}%\")"
      ]
    },
    {
      "cell_type": "code",
      "execution_count": 49,
      "metadata": {},
      "outputs": [
        {
          "name": "stdout",
          "output_type": "stream",
          "text": [
            "\n",
            "Jumlah pesanan per bulan (3 bulan pertama):\n",
            "order_year_month\n",
            "2016-09      4\n",
            "2016-10    324\n",
            "2016-12      1\n",
            "Freq: M, Name: count, dtype: int64\n",
            "\n",
            "Jumlah pesanan per bulan (3 bulan terakhir):\n",
            "order_year_month\n",
            "2018-08    6512\n",
            "2018-09      16\n",
            "2018-10       4\n",
            "Freq: M, Name: count, dtype: int64\n"
          ]
        }
      ],
      "source": [
        "# Eksplorasi waktu pemesanan\n",
        "df_orders['order_year_month'] = df_orders['order_purchase_timestamp'].dt.to_period('M')\n",
        "monthly_order_counts = df_orders['order_year_month'].value_counts().sort_index()\n",
        "print(\"\\nJumlah pesanan per bulan (3 bulan pertama):\")\n",
        "print(monthly_order_counts.head(3))\n",
        "print(\"\\nJumlah pesanan per bulan (3 bulan terakhir):\")\n",
        "print(monthly_order_counts.tail(3))"
      ]
    },
    {
      "cell_type": "code",
      "execution_count": 50,
      "metadata": {},
      "outputs": [
        {
          "name": "stdout",
          "output_type": "stream",
          "text": [
            "\n",
            "Statistik waktu pengiriman (dalam hari):\n"
          ]
        },
        {
          "data": {
            "text/plain": [
              "count    96476.000000\n",
              "mean        12.558702\n",
              "std          9.546530\n",
              "min          0.533414\n",
              "25%          6.766403\n",
              "50%         10.217755\n",
              "75%         15.720327\n",
              "max        209.628611\n",
              "Name: delivery_time, dtype: float64"
            ]
          },
          "execution_count": 50,
          "metadata": {},
          "output_type": "execute_result"
        }
      ],
      "source": [
        "# Eksplorasi waktu pengiriman\n",
        "df_orders['delivery_time'] = (df_orders['order_delivered_customer_date'] - df_orders['order_purchase_timestamp']).dt.total_seconds() / (24 * 3600)\n",
        "print(\"\\nStatistik waktu pengiriman (dalam hari):\")\n",
        "df_orders['delivery_time'].describe(include='all')"
      ]
    },
    {
      "cell_type": "markdown",
      "metadata": {},
      "source": [
        "### Explore Order Items Dataset"
      ]
    },
    {
      "cell_type": "code",
      "execution_count": 51,
      "metadata": {},
      "outputs": [
        {
          "name": "stdout",
          "output_type": "stream",
          "text": [
            "\n",
            "Statistik jumlah item per pesanan:\n"
          ]
        },
        {
          "data": {
            "text/plain": [
              "count    98666.000000\n",
              "mean         1.141731\n",
              "std          0.538452\n",
              "min          1.000000\n",
              "25%          1.000000\n",
              "50%          1.000000\n",
              "75%          1.000000\n",
              "max         21.000000\n",
              "dtype: float64"
            ]
          },
          "execution_count": 51,
          "metadata": {},
          "output_type": "execute_result"
        }
      ],
      "source": [
        "# Jumlah item per pesanan\n",
        "items_per_order = df_order_items.groupby('order_id').size()\n",
        "print(\"\\nStatistik jumlah item per pesanan:\")\n",
        "items_per_order.describe(include=\"all\")"
      ]
    },
    {
      "cell_type": "code",
      "execution_count": 52,
      "metadata": {},
      "outputs": [
        {
          "name": "stdout",
          "output_type": "stream",
          "text": [
            "\n",
            "Statistik harga produk:\n"
          ]
        },
        {
          "data": {
            "text/plain": [
              "count    112650.000000\n",
              "mean        120.653739\n",
              "std         183.633928\n",
              "min           0.850000\n",
              "25%          39.900000\n",
              "50%          74.990000\n",
              "75%         134.900000\n",
              "max        6735.000000\n",
              "Name: price, dtype: float64"
            ]
          },
          "execution_count": 52,
          "metadata": {},
          "output_type": "execute_result"
        }
      ],
      "source": [
        "# Eksplorasi harga\n",
        "print(\"\\nStatistik harga produk:\")\n",
        "df_order_items['price'].describe(include=\"all\")"
      ]
    },
    {
      "cell_type": "code",
      "execution_count": 53,
      "metadata": {},
      "outputs": [
        {
          "name": "stdout",
          "output_type": "stream",
          "text": [
            "\n",
            "Statistik biaya pengiriman:\n"
          ]
        },
        {
          "data": {
            "text/plain": [
              "count    112650.000000\n",
              "mean         19.990320\n",
              "std          15.806405\n",
              "min           0.000000\n",
              "25%          13.080000\n",
              "50%          16.260000\n",
              "75%          21.150000\n",
              "max         409.680000\n",
              "Name: freight_value, dtype: float64"
            ]
          },
          "execution_count": 53,
          "metadata": {},
          "output_type": "execute_result"
        }
      ],
      "source": [
        "# Eksplorasi biaya pengiriman\n",
        "print(\"\\nStatistik biaya pengiriman:\")\n",
        "df_order_items['freight_value'].describe(include=\"all\")"
      ]
    },
    {
      "cell_type": "markdown",
      "metadata": {},
      "source": [
        "### Explore Products Dataset"
      ]
    },
    {
      "cell_type": "code",
      "execution_count": 54,
      "metadata": {},
      "outputs": [
        {
          "name": "stdout",
          "output_type": "stream",
          "text": [
            "\n",
            "Jumlah kategori produk berbeda: 72\n",
            "\n",
            "Top 10 kategori produk:\n",
            "product_category_name_english\n",
            "bed_bath_table           3029\n",
            "sports_leisure           2867\n",
            "furniture_decor          2657\n",
            "health_beauty            2444\n",
            "housewares               2335\n",
            "auto                     1900\n",
            "computers_accessories    1639\n",
            "toys                     1411\n",
            "watches_gifts            1329\n",
            "telephony                1134\n",
            "Name: count, dtype: int64\n"
          ]
        }
      ],
      "source": [
        "# Distribusi kategori produk\n",
        "product_categories = df_products_categories['product_category_name_english'].value_counts()\n",
        "print(\"\\nJumlah kategori produk berbeda:\", len(product_categories))\n",
        "print(\"\\nTop 10 kategori produk:\")\n",
        "print(product_categories.head(10))"
      ]
    },
    {
      "cell_type": "markdown",
      "metadata": {},
      "source": [
        "### Explore Customers Dataset"
      ]
    },
    {
      "cell_type": "code",
      "execution_count": 55,
      "metadata": {},
      "outputs": [
        {
          "name": "stdout",
          "output_type": "stream",
          "text": [
            "\n",
            "Distribusi pelanggan berdasarkan negara bagian:\n",
            "customer_state\n",
            "SP    41746\n",
            "RJ    12852\n",
            "MG    11635\n",
            "RS     5466\n",
            "PR     5045\n",
            "SC     3637\n",
            "BA     3380\n",
            "DF     2140\n",
            "ES     2033\n",
            "GO     2020\n",
            "PE     1652\n",
            "CE     1336\n",
            "PA      975\n",
            "MT      907\n",
            "MA      747\n",
            "MS      715\n",
            "PB      536\n",
            "PI      495\n",
            "RN      485\n",
            "AL      413\n",
            "SE      350\n",
            "TO      280\n",
            "RO      253\n",
            "AM      148\n",
            "AC       81\n",
            "AP       68\n",
            "RR       46\n",
            "Name: count, dtype: int64\n"
          ]
        }
      ],
      "source": [
        "# Distribusi pelanggan berdasarkan lokasi\n",
        "customer_states = df_customers['customer_state'].value_counts()\n",
        "print(\"\\nDistribusi pelanggan berdasarkan negara bagian:\")\n",
        "print(customer_states)"
      ]
    },
    {
      "cell_type": "code",
      "execution_count": 56,
      "metadata": {},
      "outputs": [
        {
          "name": "stdout",
          "output_type": "stream",
          "text": [
            "\n",
            "Top 10 kota dengan jumlah pelanggan terbanyak:\n",
            "customer_city\n",
            "sao paulo                15540\n",
            "rio de janeiro            6882\n",
            "belo horizonte            2773\n",
            "brasilia                  2131\n",
            "curitiba                  1521\n",
            "campinas                  1444\n",
            "porto alegre              1379\n",
            "salvador                  1245\n",
            "guarulhos                 1189\n",
            "sao bernardo do campo      938\n",
            "Name: count, dtype: int64\n"
          ]
        }
      ],
      "source": [
        "# Top 10 kota\n",
        "customer_cities = df_customers['customer_city'].value_counts().head(10)\n",
        "print(\"\\nTop 10 kota dengan jumlah pelanggan terbanyak:\")\n",
        "print(customer_cities)"
      ]
    },
    {
      "cell_type": "markdown",
      "metadata": {},
      "source": [
        "### Explore Payments Dataset"
      ]
    },
    {
      "cell_type": "code",
      "execution_count": 57,
      "metadata": {},
      "outputs": [
        {
          "name": "stdout",
          "output_type": "stream",
          "text": [
            "\n",
            "Distribusi metode pembayaran:\n",
            "payment_type\n",
            "credit_card    76795\n",
            "boleto         19784\n",
            "voucher         5775\n",
            "debit_card      1529\n",
            "Name: count, dtype: int64\n",
            "\n",
            "Persentase penggunaan metode pembayaran terpopuler (credit_card): 73.92%\n"
          ]
        }
      ],
      "source": [
        "# Distribusi metode pembayaran\n",
        "payment_types = df_order_payments['payment_type'].value_counts()\n",
        "print(\"\\nDistribusi metode pembayaran:\")\n",
        "print(payment_types)\n",
        "print(f\"\\nPersentase penggunaan metode pembayaran terpopuler ({payment_types.index[0]}): {payment_types.iloc[0] / df_order_payments.shape[0] * 100:.2f}%\")\n"
      ]
    },
    {
      "cell_type": "markdown",
      "metadata": {},
      "source": [
        "### Explore Reviews Dataset"
      ]
    },
    {
      "cell_type": "code",
      "execution_count": 58,
      "metadata": {},
      "outputs": [
        {
          "name": "stdout",
          "output_type": "stream",
          "text": [
            "\n",
            "Distribusi skor ulasan:\n",
            "review_score\n",
            "1    11424\n",
            "2     3151\n",
            "3     8179\n",
            "4    19142\n",
            "5    57328\n",
            "Name: count, dtype: int64\n",
            "\n",
            "Skor ulasan rata-rata: 4.09\n",
            "Persentase ulasan positif (skor >= 4): 77.07%\n"
          ]
        }
      ],
      "source": [
        "# Distribusi skor ulasan\n",
        "if 'review_score' in df_order_reviews.columns:\n",
        "    review_scores = df_order_reviews['review_score'].value_counts().sort_index()\n",
        "    print(\"\\nDistribusi skor ulasan:\")\n",
        "    print(review_scores)\n",
        "    print(f\"\\nSkor ulasan rata-rata: {df_order_reviews['review_score'].mean():.2f}\")\n",
        "    \n",
        "    # Persentase ulasan positif (skor >= 4)\n",
        "    positive_reviews = df_order_reviews[df_order_reviews['review_score'] >= 4].shape[0]\n",
        "    print(f\"Persentase ulasan positif (skor >= 4): {positive_reviews / df_order_reviews.shape[0] * 100:.2f}%\")\n"
      ]
    },
    {
      "cell_type": "markdown",
      "metadata": {
        "id": "th_Lzl2Fkj9O"
      },
      "source": [
        "**Insight:**\n",
        "1. Kualitas dan Kelengkapan Data  \n",
        "   - Dataset mengandung beberapa **missing values**, terutama pada kolom seperti `product_category_name_english` dan `customer_state`.  \n",
        "   - Beberapa data duplikat ditemukan dan perlu dibersihkan untuk memastikan akurasi analisis.  \n",
        "   - Format data pada beberapa kolom seperti tanggal perlu dikonversi ke tipe data yang sesuai untuk analisis lebih lanjut.  \n",
        "\n",
        "2. Tren Pesanan  \n",
        "   - Data menunjukkan adanya **pola musiman**, dengan lonjakan pesanan pada periode tertentu.  \n",
        "\n",
        "3. Produk dan Kategori Terlaris  \n",
        "   - Beberapa kategori produk memiliki jumlah penjualan yang jauh lebih tinggi dibanding kategori lainnya.  \n",
        "\n",
        "4. Perilaku Pelanggan  \n",
        "   - Mayoritas pelanggan melakukan pembelian dalam jumlah kecil (1-2 item per pesanan).  \n",
        "   - Distribusi geografis pelanggan menunjukkan konsentrasi di kota-kota besar tertentu.  \n",
        "\n",
        "5. Metode Pembayaran  \n",
        "   - **Kartu kredit** menjadi metode pembayaran yang paling banyak digunakan, diikuti oleh **boleto** (metode pembayaran lokal di Brasil).  \n",
        "\n",
        "6. Waktu Pengiriman  \n",
        "   - Rata-rata waktu pengiriman bervariasi tergantung pada lokasi tujuan.  \n",
        "\n",
        "7. Ulasan dan Kepuasan Pelanggan  \n",
        "   - Sebagian besar ulasan memiliki skor tinggi (4-5), menunjukkan bahwa mayoritas pelanggan puas dengan layanan yang diberikan.  \n",
        "   - Ulasan dengan skor rendah sering kali terkait dengan keterlambatan pengiriman atau ketidaksesuaian produk.  \n"
      ]
    },
    {
      "cell_type": "markdown",
      "metadata": {
        "id": "zsyZjqak8DC2"
      },
      "source": [
        "## Visualization & Explanatory Analysis"
      ]
    },
    {
      "cell_type": "markdown",
      "metadata": {
        "id": "HZxOiQ6n8DC2"
      },
      "source": [
        "### Pertanyaan 1: Bagaimana tren jumlah pesanan dari waktu ke waktu?"
      ]
    },
    {
      "cell_type": "code",
      "execution_count": 59,
      "metadata": {
        "id": "1swJUdAD8DC2"
      },
      "outputs": [],
      "source": [
        "# Persiapan data\n",
        "all_df['order_month'] = all_df['order_purchase_timestamp'].dt.to_period('M').astype(str)\n",
        "monthly_orders = all_df.groupby('order_month').size().reset_index(name='order_count')"
      ]
    },
    {
      "cell_type": "code",
      "execution_count": 60,
      "metadata": {},
      "outputs": [
        {
          "data": {
            "image/png": "[encoded data removed]",
            "text/plain": [
              "<Figure size 1400x700 with 1 Axes>"
            ]
          },
          "metadata": {},
          "output_type": "display_data"
        }
      ],
      "source": [
        "# Visualisasi\n",
        "plt.figure(figsize=(14, 7))\n",
        "plt.plot(monthly_orders['order_month'], monthly_orders['order_count'], marker='o', linestyle='-', linewidth=2)\n",
        "plt.title('Tren Jumlah Pesanan Bulanan', fontsize=18)\n",
        "plt.xlabel('Bulan', fontsize=14)\n",
        "plt.ylabel('Jumlah Pesanan', fontsize=14)\n",
        "plt.xticks(rotation=45)\n",
        "plt.grid(True, alpha=0.3)\n",
        "plt.tight_layout()\n",
        "plt.show()"
      ]
    },
    {
      "cell_type": "code",
      "execution_count": 61,
      "metadata": {},
      "outputs": [
        {
          "name": "stdout",
          "output_type": "stream",
          "text": [
            "\n",
            "Analisis Tren Pesanan:\n",
            "- Periode data: 2016-09 hingga 2018-10\n",
            "- Jumlah pesanan terendah: 1 (pada 2016-12)\n",
            "- Jumlah pesanan tertinggi: 9191 (pada 2017-11)\n"
          ]
        }
      ],
      "source": [
        "# Analisis tren\n",
        "print(\"\\nAnalisis Tren Pesanan:\")\n",
        "print(f\"- Periode data: {monthly_orders['order_month'].min()} hingga {monthly_orders['order_month'].max()}\")\n",
        "print(f\"- Jumlah pesanan terendah: {monthly_orders['order_count'].min()} (pada {monthly_orders.loc[monthly_orders['order_count'].idxmin(), 'order_month']})\")\n",
        "print(f\"- Jumlah pesanan tertinggi: {monthly_orders['order_count'].max()} (pada {monthly_orders.loc[monthly_orders['order_count'].idxmax(), 'order_month']})\")"
      ]
    },
    {
      "cell_type": "markdown",
      "metadata": {
        "id": "DgHI7CiU8DC2"
      },
      "source": [
        "### Pertanyaan 2: Produk kategori apa yang paling banyak terjual dan menghasilkan pendapatan tertinggi?"
      ]
    },
    {
      "cell_type": "code",
      "execution_count": 62,
      "metadata": {
        "id": "Go0lCsvO8DC2"
      },
      "outputs": [],
      "source": [
        "# Persiapan data\n",
        "category_sales = all_df.groupby('product_category_name_english').agg(\n",
        "    total_units=('order_item_id', 'count'),\n",
        "    total_revenue=('price', 'sum')\n",
        ").reset_index()"
      ]
    },
    {
      "cell_type": "code",
      "execution_count": 63,
      "metadata": {},
      "outputs": [
        {
          "data": {
            "image/png": "[encoded data removed]",
            "text/plain": [
              "<Figure size 1400x800 with 1 Axes>"
            ]
          },
          "metadata": {},
          "output_type": "display_data"
        }
      ],
      "source": [
        "# Kategori dengan penjualan tertinggi\n",
        "top_sales_categories = category_sales.sort_values('total_units', ascending=False).head(10)\n",
        "\n",
        "# Visualisasi kategori terlaris\n",
        "plt.figure(figsize=(14, 8))\n",
        "bars = plt.barh(top_sales_categories['product_category_name_english'], top_sales_categories['total_units'], color='skyblue')\n",
        "plt.title('10 Kategori Produk dengan Penjualan Tertinggi', fontsize=18)\n",
        "plt.xlabel('Jumlah Unit Terjual', fontsize=14)\n",
        "plt.ylabel('Kategori Produk', fontsize=14)\n",
        "plt.gca().invert_yaxis()  # Untuk menampilkan kategori teratas di bagian atas\n",
        "\n",
        "# Tambahkan label nilai pada setiap bar\n",
        "for bar in bars:\n",
        "    width = bar.get_width()\n",
        "    plt.text(width + 0.5, bar.get_y() + bar.get_height()/2, f'{int(width):,}', \n",
        "             ha='left', va='center', fontsize=10)\n",
        "\n",
        "plt.tight_layout()\n",
        "plt.show()"
      ]
    },
    {
      "cell_type": "code",
      "execution_count": 64,
      "metadata": {},
      "outputs": [
        {
          "data": {
            "image/png": "[encoded data removed]",
            "text/plain": [
              "<Figure size 1400x800 with 1 Axes>"
            ]
          },
          "metadata": {},
          "output_type": "display_data"
        }
      ],
      "source": [
        "# Kategori dengan pendapatan tertinggi\n",
        "top_revenue_categories = category_sales.sort_values('total_revenue', ascending=False).head(10)\n",
        "\n",
        "# Visualisasi kategori dengan pendapatan tertinggi\n",
        "plt.figure(figsize=(14, 8))\n",
        "bars = plt.barh(top_revenue_categories['product_category_name_english'], \n",
        "         top_revenue_categories['total_revenue'], \n",
        "         color='lightgreen')\n",
        "plt.title('10 Kategori Produk dengan Pendapatan Tertinggi', fontsize=18)\n",
        "plt.xlabel('Total Pendapatan (BRL)', fontsize=14)\n",
        "plt.ylabel('Kategori Produk', fontsize=14)\n",
        "plt.gca().invert_yaxis()  # Untuk menampilkan kategori teratas di bagian atas\n",
        "\n",
        "# Tambahkan label nilai pada setiap bar\n",
        "for bar in bars:\n",
        "    width = bar.get_width()\n",
        "    plt.text(width + 0.5, bar.get_y() + bar.get_height()/2, f'R$ {int(width):,}', \n",
        "             ha='left', va='center', fontsize=10)\n",
        "\n",
        "plt.tight_layout()\n",
        "plt.show()"
      ]
    },
    {
      "cell_type": "code",
      "execution_count": 65,
      "metadata": {},
      "outputs": [
        {
          "name": "stdout",
          "output_type": "stream",
          "text": [
            "\n",
            "Analisis Kategori Produk:\n",
            "- Kategori produk terlaris: bed_bath_table (11,988 unit)\n",
            "- Kategori dengan pendapatan tertinggi: health_beauty (R$ 1,301,947)\n"
          ]
        }
      ],
      "source": [
        "# Analisis kategori produk\n",
        "print(\"\\nAnalisis Kategori Produk:\")\n",
        "print(f\"- Kategori produk terlaris: {top_sales_categories.iloc[0]['product_category_name_english']} \"\n",
        "      f\"({int(top_sales_categories.iloc[0]['total_units']):,} unit)\")\n",
        "print(f\"- Kategori dengan pendapatan tertinggi: {top_revenue_categories.iloc[0]['product_category_name_english']} \"\n",
        "      f\"(R$ {int(top_revenue_categories.iloc[0]['total_revenue']):,})\")"
      ]
    },
    {
      "cell_type": "code",
      "execution_count": 66,
      "metadata": {},
      "outputs": [
        {
          "name": "stdout",
          "output_type": "stream",
          "text": [
            "- Jumlah kategori yang muncul di kedua daftar top 10: 9\n",
            "- Kategori yang muncul di kedua daftar top 10: furniture_decor, sports_leisure, garden_tools, auto, health_beauty, computers_accessories, bed_bath_table, housewares, watches_gifts\n"
          ]
        }
      ],
      "source": [
        "# Perbandingan kategori terlaris vs pendapatan tertinggi\n",
        "common_categories = set(top_sales_categories['product_category_name_english']) & set(top_revenue_categories['product_category_name_english'])\n",
        "print(f\"- Jumlah kategori yang muncul di kedua daftar top 10: {len(common_categories)}\")\n",
        "print(f\"- Kategori yang muncul di kedua daftar top 10: {', '.join(common_categories)}\")"
      ]
    },
    {
      "cell_type": "markdown",
      "metadata": {},
      "source": [
        "### Pertanyaan 3: Metode pembayaran apa yang paling sering digunakan oleh pelanggan?"
      ]
    },
    {
      "cell_type": "code",
      "execution_count": 67,
      "metadata": {},
      "outputs": [
        {
          "name": "stdout",
          "output_type": "stream",
          "text": [
            "  payment_type  frequency  total_value  percentage\n",
            "1  credit_card      87776  15775450.54   73.676524\n",
            "0       boleto      23190   4110920.74   19.464986\n",
            "3      voucher       6465    435917.84    5.426526\n",
            "2   debit_card       1706    257374.89    1.431965\n"
          ]
        }
      ],
      "source": [
        "# Persiapan data\n",
        "payment_methods = all_df.groupby('payment_type').agg(\n",
        "    frequency=('order_id', 'count'),\n",
        "    total_value=('payment_value', 'sum')\n",
        ").reset_index()\n",
        "payment_methods['percentage'] = payment_methods['frequency'] / payment_methods['frequency'].sum() * 100\n",
        "payment_methods = payment_methods.sort_values('frequency', ascending=False)\n",
        "print(payment_methods)\n"
      ]
    },
    {
      "cell_type": "code",
      "execution_count": 68,
      "metadata": {},
      "outputs": [
        {
          "data": {
            "image/png": "[encoded data removed]",
            "text/plain": [
              "<Figure size 1200x700 with 1 Axes>"
            ]
          },
          "metadata": {},
          "output_type": "display_data"
        }
      ],
      "source": [
        "# Visualisasi\n",
        "plt.figure(figsize=(12, 7))\n",
        "bars = plt.bar(payment_methods['payment_type'], payment_methods['frequency'], color='salmon')\n",
        "plt.title('Frekuensi Penggunaan Metode Pembayaran', fontsize=18)\n",
        "plt.xlabel('Metode Pembayaran', fontsize=14)\n",
        "plt.ylabel('Jumlah Transaksi', fontsize=14)\n",
        "plt.xticks(rotation=0)\n",
        "\n",
        "# Tambahkan label persentase di atas setiap bar\n",
        "for bar, percentage in zip(bars, payment_methods['percentage']):\n",
        "    height = bar.get_height()\n",
        "    plt.text(bar.get_x() + bar.get_width()/2., height + 0.1,\n",
        "             f'{percentage:.1f}%', ha='center', va='bottom', fontsize=12)\n",
        "\n",
        "plt.tight_layout()\n",
        "plt.show()"
      ]
    },
    {
      "cell_type": "code",
      "execution_count": 71,
      "metadata": {},
      "outputs": [
        {
          "name": "stdout",
          "output_type": "stream",
          "text": [
            "- Metode pembayaran dengan nilai transaksi rata-rata tertinggi: credit_card (R$ 179.72)\n"
          ]
        }
      ],
      "source": [
        "# Analisis nilai transaksi\n",
        "payment_methods['average_value'] = payment_methods['total_value'] / payment_methods['frequency']\n",
        "print(f\"- Metode pembayaran dengan nilai transaksi rata-rata tertinggi: \"\n",
        "      f\"{payment_methods.loc[payment_methods['average_value'].idxmax(), 'payment_type']} \"\n",
        "      f\"(R$ {payment_methods['average_value'].max():.2f})\")\n"
      ]
    },
    {
      "cell_type": "markdown",
      "metadata": {},
      "source": [
        "### Pertanyaan 4: Seberapa puas pelanggan dengan layanan yang diberikan?"
      ]
    },
    {
      "cell_type": "code",
      "execution_count": 72,
      "metadata": {},
      "outputs": [],
      "source": [
        "# Persiapan data\n",
        "review_counts = all_df['review_score'].value_counts().sort_index().reset_index()\n",
        "review_counts.columns = ['score', 'count']\n",
        "review_counts['percentage'] = review_counts['count'] / review_counts['count'].sum() * 100"
      ]
    },
    {
      "cell_type": "code",
      "execution_count": 73,
      "metadata": {},
      "outputs": [
        {
          "data": {
            "image/png": "[encoded data removed]",
            "text/plain": [
              "<Figure size 1200x700 with 1 Axes>"
            ]
          },
          "metadata": {},
          "output_type": "display_data"
        }
      ],
      "source": [
        " # Visualisasi distribusi skor\n",
        "plt.figure(figsize=(12, 7))\n",
        "bars = plt.bar(review_counts['score'], review_counts['count'], \n",
        "        color=['darkred', 'tomato', 'gold', 'lightgreen', 'darkgreen'])\n",
        "plt.title('Distribusi Skor Ulasan Pelanggan', fontsize=18)\n",
        "plt.xlabel('Skor Ulasan (1-5)', fontsize=14)\n",
        "plt.ylabel('Jumlah Ulasan', fontsize=14)\n",
        "plt.xticks(review_counts['score'])\n",
        "\n",
        "# Tambahkan label persentase di atas setiap bar\n",
        "for bar, percentage in zip(bars, review_counts['percentage']):\n",
        "    height = bar.get_height()\n",
        "    plt.text(bar.get_x() + bar.get_width()/2., height + 0.1,\n",
        "                f'{percentage:.1f}%', ha='center', va='bottom', fontsize=12)\n",
        "\n",
        "plt.tight_layout()\n",
        "plt.show()"
      ]
    },
    {
      "cell_type": "code",
      "execution_count": 75,
      "metadata": {},
      "outputs": [
        {
          "name": "stdout",
          "output_type": "stream",
          "text": [
            "\n",
            "Analisis Kepuasan Pelanggan:\n",
            "- Skor ulasan rata-rata: 4.02 dari 5\n",
            "- Persentase ulasan positif (4-5 bintang): 74.4%\n",
            "- Persentase ulasan netral (3 bintang): 8.3%\n",
            "- Persentase ulasan negatif (1-2 bintang): 16.4%\n"
          ]
        }
      ],
      "source": [
        " # Analisis kepuasan pelanggan\n",
        "average_score = all_df['review_score'].mean()\n",
        "positive_reviews = all_df[all_df['review_score'] >= 4].shape[0]\n",
        "neutral_reviews = all_df[all_df['review_score'] == 3].shape[0]\n",
        "negative_reviews = all_df[all_df['review_score'] <= 2].shape[0]\n",
        "total_reviews = len(all_df)\n",
        "\n",
        "print(\"\\nAnalisis Kepuasan Pelanggan:\")\n",
        "print(f\"- Skor ulasan rata-rata: {average_score:.2f} dari 5\")\n",
        "print(f\"- Persentase ulasan positif (4-5 bintang): {positive_reviews / total_reviews * 100:.1f}%\")\n",
        "print(f\"- Persentase ulasan netral (3 bintang): {neutral_reviews / total_reviews * 100:.1f}%\")\n",
        "print(f\"- Persentase ulasan negatif (1-2 bintang): {negative_reviews / total_reviews * 100:.1f}%\")"
      ]
    },
    {
      "cell_type": "code",
      "execution_count": 76,
      "metadata": {},
      "outputs": [
        {
          "name": "stdout",
          "output_type": "stream",
          "text": [
            "- Tingkat kepuasan pelanggan secara keseluruhan: tinggi\n"
          ]
        }
      ],
      "source": [
        "# Interpretasi tingkat kepuasan\n",
        "if average_score >= 4.5:\n",
        "    satisfaction_level = \"sangat tinggi\"\n",
        "elif average_score >= 4.0:\n",
        "    satisfaction_level = \"tinggi\"\n",
        "elif average_score >= 3.5:\n",
        "    satisfaction_level = \"cukup tinggi\"\n",
        "elif average_score >= 3.0:\n",
        "    satisfaction_level = \"sedang\"\n",
        "else:\n",
        "    satisfaction_level = \"rendah\"\n",
        "\n",
        "print(f\"- Tingkat kepuasan pelanggan secara keseluruhan: {satisfaction_level}\")"
      ]
    },
    {
      "cell_type": "markdown",
      "metadata": {},
      "source": [
        "### Pertanyaan 5: Kota atau wilayah mana yang memiliki jumlah pembelian terbanyak?"
      ]
    },
    {
      "cell_type": "code",
      "execution_count": 77,
      "metadata": {},
      "outputs": [],
      "source": [
        "# Persiapan data\n",
        "location_purchases = all_df.groupby(['customer_city', 'customer_state']).size().reset_index(name='order_count')\n",
        "top_cities = location_purchases.sort_values('order_count', ascending=False).head(15)"
      ]
    },
    {
      "cell_type": "code",
      "execution_count": 78,
      "metadata": {},
      "outputs": [
        {
          "data": {
            "image/png": "[encoded data removed]",
            "text/plain": [
              "<Figure size 1400x1000 with 1 Axes>"
            ]
          },
          "metadata": {},
          "output_type": "display_data"
        }
      ],
      "source": [
        "# Visualisasi\n",
        "plt.figure(figsize=(14, 10))\n",
        "bars = plt.barh(top_cities['customer_city'] + ' (' + top_cities['customer_state'] + ')', \n",
        "         top_cities['order_count'], color='mediumpurple')\n",
        "plt.title('15 Kota dengan Jumlah Pembelian Tertinggi', fontsize=18)\n",
        "plt.xlabel('Jumlah Pembelian', fontsize=14)\n",
        "plt.ylabel('Kota (Negara Bagian)', fontsize=14)\n",
        "plt.gca().invert_yaxis()  # Untuk menampilkan kota teratas di bagian atas\n",
        "\n",
        "# Tambahkan label nilai pada setiap bar\n",
        "for bar in bars:\n",
        "    width = bar.get_width()\n",
        "    plt.text(width + 0.5, bar.get_y() + bar.get_height()/2, f'{int(width):,}', \n",
        "             ha='left', va='center', fontsize=10)\n",
        "\n",
        "plt.tight_layout()\n",
        "plt.show()"
      ]
    },
    {
      "cell_type": "code",
      "execution_count": 79,
      "metadata": {},
      "outputs": [],
      "source": [
        "# Analisis distribusi regional\n",
        "state_purchases = all_df.groupby('customer_state').size().reset_index(name='order_count')\n",
        "state_purchases = state_purchases.sort_values('order_count', ascending=False)"
      ]
    },
    {
      "cell_type": "code",
      "execution_count": 80,
      "metadata": {},
      "outputs": [
        {
          "data": {
            "image/png": "[encoded data removed]",
            "text/plain": [
              "<Figure size 1400x800 with 1 Axes>"
            ]
          },
          "metadata": {},
          "output_type": "display_data"
        }
      ],
      "source": [
        "# Visualisasi distribusi pesanan per negara bagian\n",
        "plt.figure(figsize=(14, 8))\n",
        "plt.bar(state_purchases['customer_state'], state_purchases['order_count'], color='teal')\n",
        "plt.title('Distribusi Pembelian per Negara Bagian', fontsize=18)\n",
        "plt.xlabel('Negara Bagian', fontsize=14)\n",
        "plt.ylabel('Jumlah Pembelian', fontsize=14)\n",
        "plt.xticks(rotation=45)\n",
        "plt.tight_layout()\n",
        "plt.show()"
      ]
    },
    {
      "cell_type": "code",
      "execution_count": 81,
      "metadata": {},
      "outputs": [
        {
          "name": "stdout",
          "output_type": "stream",
          "text": [
            "\n",
            "Analisis Geografis Pembelian:\n",
            "- Kota dengan jumlah pembelian tertinggi: sao paulo (SP) dengan 18,875 pembelian\n",
            "- Negara bagian dengan jumlah pembelian tertinggi: SP dengan 50,265 pembelian\n"
          ]
        }
      ],
      "source": [
        "# Analisis geografis\n",
        "print(\"\\nAnalisis Geografis Pembelian:\")\n",
        "print(f\"- Kota dengan jumlah pembelian tertinggi: {top_cities.iloc[0]['customer_city']} ({top_cities.iloc[0]['customer_state']}) \"\n",
        "      f\"dengan {top_cities.iloc[0]['order_count']:,} pembelian\")\n",
        "print(f\"- Negara bagian dengan jumlah pembelian tertinggi: {state_purchases.iloc[0]['customer_state']} \"\n",
        "      f\"dengan {state_purchases.iloc[0]['order_count']:,} pembelian\")"
      ]
    },
    {
      "cell_type": "code",
      "execution_count": 82,
      "metadata": {},
      "outputs": [
        {
          "name": "stdout",
          "output_type": "stream",
          "text": [
            "- Persentase pembelian dari 5 kota teratas: 29.2%\n"
          ]
        }
      ],
      "source": [
        "# Persentase pembelian dari 5 kota teratas\n",
        "top5_cities_percentage = top_cities.head(5)['order_count'].sum() / all_df.shape[0] * 100\n",
        "print(f\"- Persentase pembelian dari 5 kota teratas: {top5_cities_percentage:.1f}%\")"
      ]
    },
    {
      "cell_type": "code",
      "execution_count": 83,
      "metadata": {},
      "outputs": [
        {
          "name": "stdout",
          "output_type": "stream",
          "text": [
            "- Persentase pembelian dari 3 negara bagian teratas: 66.8%\n"
          ]
        }
      ],
      "source": [
        "# Persentase pembelian dari 3 negara bagian teratas\n",
        "top3_states_percentage = state_purchases.head(3)['order_count'].sum() / all_df.shape[0] * 100\n",
        "print(f\"- Persentase pembelian dari 3 negara bagian teratas: {top3_states_percentage:.1f}%\")\n"
      ]
    },
    {
      "cell_type": "code",
      "execution_count": 84,
      "metadata": {},
      "outputs": [
        {
          "name": "stdout",
          "output_type": "stream",
          "text": [
            "- Konsentrasi geografis pembelian: sedang\n"
          ]
        }
      ],
      "source": [
        "# Kesimpulan konsentrasi geografis\n",
        "if top5_cities_percentage > 50:\n",
        "    concentration = \"sangat tinggi\"\n",
        "elif top5_cities_percentage > 30:\n",
        "    concentration = \"tinggi\"\n",
        "elif top5_cities_percentage > 15:\n",
        "    concentration = \"sedang\"\n",
        "else:\n",
        "    concentration = \"rendah\"\n",
        "print(f\"- Konsentrasi geografis pembelian: {concentration}\")"
      ]
    },
    {
      "cell_type": "markdown",
      "metadata": {
        "id": "_0-36BDLklRg"
      },
      "source": [
        "**Insight:**\n",
        "1. Tren Pesanan  \n",
        "   - Terjadi peningkatan jumlah pesanan dari waktu ke waktu, menunjukkan pertumbuhan bisnis yang positif.  \n",
        "   - Puncak jumlah pesanan terjadi pada bulan tertentu, kemungkinan karena adanya promosi, diskon musiman, atau faktor eksternal lainnya.  \n",
        "   - Pemahaman terhadap pola ini dapat membantu bisnis dalam merancang strategi pemasaran dan pengelolaan stok produk.  \n",
        "\n",
        "2. Kategori Produk  \n",
        "   - Beberapa kategori memiliki volume penjualan tinggi tetapi harga per unit rendah, sementara kategori lain dengan harga lebih tinggi mampu menghasilkan pendapatan lebih besar meskipun jumlah unit terjual lebih sedikit.  \n",
        "   - Terdapat kategori produk yang konsisten muncul dalam daftar terlaris dan berpendapatan tertinggi, menunjukkan stabilitas permintaan yang tinggi.  \n",
        "   - Mengetahui kategori dengan performa terbaik dapat membantu bisnis dalam perencanaan inventaris dan strategi pemasaran yang lebih tepat.  \n",
        "\n",
        "3. Metode Pembayaran  \n",
        "   - Mayoritas pelanggan memilih metode pembayaran tertentu, menunjukkan preferensi yang kuat dalam pola transaksi.  \n",
        "   - Metode pembayaran dengan transaksi rata-rata tertinggi kemungkinan digunakan oleh pelanggan dengan daya beli lebih tinggi.  \n",
        "   - Menyediakan lebih banyak opsi pembayaran dapat meningkatkan kepuasan pelanggan dan potensi konversi penjualan.  \n",
        "\n",
        "4. Kepuasan Pelanggan  \n",
        "   - Sebagian besar pelanggan memberikan ulasan positif, menunjukkan pengalaman belanja yang memuaskan.  \n",
        "   - Ulasan negatif yang ada dapat dianalisis lebih lanjut untuk mengidentifikasi kendala seperti keterlambatan pengiriman, kualitas produk, atau masalah layanan pelanggan.  \n",
        "   - Memperbaiki aspek yang dikeluhkan pelanggan dapat meningkatkan loyalitas dan memperkuat reputasi bisnis.  \n",
        "\n",
        "5. Distribusi Geografis  \n",
        "   - Sebagian besar pesanan berasal dari kota dan negara bagian tertentu, menunjukkan adanya wilayah utama yang menjadi pasar potensial.  \n",
        "   - Beberapa area memiliki tingkat pembelian yang lebih rendah tetapi berpotensi untuk dikembangkan melalui strategi pemasaran yang lebih agresif.  \n",
        "   - Pemahaman terhadap distribusi geografis dapat membantu dalam optimalisasi logistik dan ekspansi bisnis ke wilayah baru.  \n"
      ]
    },
    {
      "cell_type": "markdown",
      "metadata": {
        "id": "9y4VUsmcYNZ5"
      },
      "source": [
        "## Analisis Lanjutan (Opsional)"
      ]
    },
    {
      "cell_type": "markdown",
      "metadata": {},
      "source": [
        "### RFM Analysis"
      ]
    },
    {
      "cell_type": "code",
      "execution_count": 85,
      "metadata": {
        "id": "iWhnzsJGYUCO"
      },
      "outputs": [
        {
          "name": "stdout",
          "output_type": "stream",
          "text": [
            "<class 'pandas.core.frame.DataFrame'>\n",
            "RangeIndex: 119143 entries, 0 to 119142\n",
            "Data columns (total 21 columns):\n",
            " #   Column                         Non-Null Count   Dtype         \n",
            "---  ------                         --------------   -----         \n",
            " 0   order_id                       119143 non-null  object        \n",
            " 1   customer_id_x                  119143 non-null  object        \n",
            " 2   order_status                   119143 non-null  object        \n",
            " 3   order_purchase_timestamp       119143 non-null  datetime64[ns]\n",
            " 4   order_delivered_customer_date  115722 non-null  datetime64[ns]\n",
            " 5   order_estimated_delivery_date  119143 non-null  datetime64[ns]\n",
            " 6   order_item_id                  118310 non-null  float64       \n",
            " 7   product_id                     118310 non-null  object        \n",
            " 8   seller_id                      118310 non-null  object        \n",
            " 9   price                          118310 non-null  float64       \n",
            " 10  freight_value                  118310 non-null  float64       \n",
            " 11  product_category_name          116601 non-null  object        \n",
            " 12  product_category_name_english  118310 non-null  object        \n",
            " 13  payment_type                   119137 non-null  object        \n",
            " 14  payment_value                  119137 non-null  float64       \n",
            " 15  review_id                      118146 non-null  object        \n",
            " 16  review_score                   118146 non-null  float64       \n",
            " 17  customer_id_y                  119143 non-null  object        \n",
            " 18  customer_city                  119143 non-null  object        \n",
            " 19  customer_state                 119143 non-null  object        \n",
            " 20  order_month                    119143 non-null  object        \n",
            "dtypes: datetime64[ns](3), float64(5), object(13)\n",
            "memory usage: 19.1+ MB\n"
          ]
        }
      ],
      "source": [
        "all_df.info()"
      ]
    },
    {
      "cell_type": "code",
      "execution_count": 91,
      "metadata": {},
      "outputs": [
        {
          "data": {
            "text/html": [
              "<div>\n",
              "<style scoped>\n",
              "    .dataframe tbody tr th:only-of-type {\n",
              "        vertical-align: middle;\n",
              "    }\n",
              "\n",
              "    .dataframe tbody tr th {\n",
              "        vertical-align: top;\n",
              "    }\n",
              "\n",
              "    .dataframe thead th {\n",
              "        text-align: right;\n",
              "    }\n",
              "</style>\n",
              "<table border=\"1\" class=\"dataframe\">\n",
              "  <thead>\n",
              "    <tr style=\"text-align: right;\">\n",
              "      <th></th>\n",
              "      <th>customer_id</th>\n",
              "      <th>frequency</th>\n",
              "      <th>monetary</th>\n",
              "      <th>recency</th>\n",
              "    </tr>\n",
              "  </thead>\n",
              "  <tbody>\n",
              "    <tr>\n",
              "      <th>0</th>\n",
              "      <td>00012a2ce6f8dcda20d059ce98491703</td>\n",
              "      <td>1</td>\n",
              "      <td>89.80</td>\n",
              "      <td>337</td>\n",
              "    </tr>\n",
              "    <tr>\n",
              "      <th>1</th>\n",
              "      <td>000161a058600d5901f007fab4c27140</td>\n",
              "      <td>1</td>\n",
              "      <td>54.90</td>\n",
              "      <td>458</td>\n",
              "    </tr>\n",
              "    <tr>\n",
              "      <th>2</th>\n",
              "      <td>0001fd6190edaaf884bcaf3d49edf079</td>\n",
              "      <td>1</td>\n",
              "      <td>179.99</td>\n",
              "      <td>596</td>\n",
              "    </tr>\n",
              "    <tr>\n",
              "      <th>3</th>\n",
              "      <td>0002414f95344307404f0ace7a26f1d5</td>\n",
              "      <td>1</td>\n",
              "      <td>149.90</td>\n",
              "      <td>427</td>\n",
              "    </tr>\n",
              "    <tr>\n",
              "      <th>4</th>\n",
              "      <td>000379cdec625522490c315e70c7a9fb</td>\n",
              "      <td>1</td>\n",
              "      <td>93.00</td>\n",
              "      <td>198</td>\n",
              "    </tr>\n",
              "  </tbody>\n",
              "</table>\n",
              "</div>"
            ],
            "text/plain": [
              "                        customer_id  frequency  monetary  recency\n",
              "0  00012a2ce6f8dcda20d059ce98491703          1     89.80      337\n",
              "1  000161a058600d5901f007fab4c27140          1     54.90      458\n",
              "2  0001fd6190edaaf884bcaf3d49edf079          1    179.99      596\n",
              "3  0002414f95344307404f0ace7a26f1d5          1    149.90      427\n",
              "4  000379cdec625522490c315e70c7a9fb          1     93.00      198"
            ]
          },
          "execution_count": 91,
          "metadata": {},
          "output_type": "execute_result"
        }
      ],
      "source": [
        "rfm_df = all_df.groupby(by=\"customer_id_x\", as_index=False).agg({\n",
        "    \"order_purchase_timestamp\": \"max\", # mengambil tanggal order terakhir\n",
        "    \"order_id\": \"nunique\", # menghitung jumlah order\n",
        "    \"price\": \"sum\" # menghitung jumlah revenue yang dihasilkan\n",
        "})\n",
        "rfm_df.columns = [\"customer_id\", \"max_order_timestamp\", \"frequency\", \"monetary\"]\n",
        "\n",
        "# menghitung kapan terakhir pelanggan melakukan transaksi (hari)\n",
        "rfm_df[\"max_order_timestamp\"] = rfm_df[\"max_order_timestamp\"].dt.date\n",
        "recent_date = all_df[\"order_purchase_timestamp\"].dt.date.max()\n",
        "rfm_df[\"recency\"] = rfm_df[\"max_order_timestamp\"].apply(lambda x: (recent_date - x).days)\n",
        "\n",
        "rfm_df.drop(\"max_order_timestamp\", axis=1, inplace=True)\n",
        "rfm_df.head()"
      ]
    },
    {
      "cell_type": "code",
      "execution_count": 92,
      "metadata": {},
      "outputs": [
        {
          "data": {
            "text/html": [
              "<div>\n",
              "<style scoped>\n",
              "    .dataframe tbody tr th:only-of-type {\n",
              "        vertical-align: middle;\n",
              "    }\n",
              "\n",
              "    .dataframe tbody tr th {\n",
              "        vertical-align: top;\n",
              "    }\n",
              "\n",
              "    .dataframe thead th {\n",
              "        text-align: right;\n",
              "    }\n",
              "</style>\n",
              "<table border=\"1\" class=\"dataframe\">\n",
              "  <thead>\n",
              "    <tr style=\"text-align: right;\">\n",
              "      <th></th>\n",
              "      <th>recency</th>\n",
              "      <th>frequency</th>\n",
              "      <th>monetary</th>\n",
              "    </tr>\n",
              "  </thead>\n",
              "  <tbody>\n",
              "    <tr>\n",
              "      <th>count</th>\n",
              "      <td>99441.000000</td>\n",
              "      <td>99441.0</td>\n",
              "      <td>99441.000000</td>\n",
              "    </tr>\n",
              "    <tr>\n",
              "      <th>mean</th>\n",
              "      <td>290.272956</td>\n",
              "      <td>1.0</td>\n",
              "      <td>143.539382</td>\n",
              "    </tr>\n",
              "    <tr>\n",
              "      <th>std</th>\n",
              "      <td>153.670615</td>\n",
              "      <td>0.0</td>\n",
              "      <td>241.433332</td>\n",
              "    </tr>\n",
              "    <tr>\n",
              "      <th>min</th>\n",
              "      <td>0.000000</td>\n",
              "      <td>1.0</td>\n",
              "      <td>0.000000</td>\n",
              "    </tr>\n",
              "    <tr>\n",
              "      <th>25%</th>\n",
              "      <td>166.000000</td>\n",
              "      <td>1.0</td>\n",
              "      <td>45.950000</td>\n",
              "    </tr>\n",
              "    <tr>\n",
              "      <th>50%</th>\n",
              "      <td>272.000000</td>\n",
              "      <td>1.0</td>\n",
              "      <td>89.000000</td>\n",
              "    </tr>\n",
              "    <tr>\n",
              "      <th>75%</th>\n",
              "      <td>400.000000</td>\n",
              "      <td>1.0</td>\n",
              "      <td>153.800000</td>\n",
              "    </tr>\n",
              "    <tr>\n",
              "      <th>max</th>\n",
              "      <td>773.000000</td>\n",
              "      <td>1.0</td>\n",
              "      <td>13440.000000</td>\n",
              "    </tr>\n",
              "  </tbody>\n",
              "</table>\n",
              "</div>"
            ],
            "text/plain": [
              "            recency  frequency      monetary\n",
              "count  99441.000000    99441.0  99441.000000\n",
              "mean     290.272956        1.0    143.539382\n",
              "std      153.670615        0.0    241.433332\n",
              "min        0.000000        1.0      0.000000\n",
              "25%      166.000000        1.0     45.950000\n",
              "50%      272.000000        1.0     89.000000\n",
              "75%      400.000000        1.0    153.800000\n",
              "max      773.000000        1.0  13440.000000"
            ]
          },
          "execution_count": 92,
          "metadata": {},
          "output_type": "execute_result"
        }
      ],
      "source": [
        "rfm_df[['recency', 'frequency', 'monetary']].describe()"
      ]
    },
    {
      "cell_type": "code",
      "execution_count": 88,
      "metadata": {},
      "outputs": [
        {
          "data": {
            "image/png": "[encoded data removed]",
            "text/plain": [
              "<Figure size 1200x600 with 4 Axes>"
            ]
          },
          "metadata": {},
          "output_type": "display_data"
        }
      ],
      "source": [
        "rfm_df[['recency', 'frequency', 'monetary']].hist(bins=20, figsize=(12, 6))\n",
        "plt.show()"
      ]
    },
    {
      "cell_type": "code",
      "execution_count": 89,
      "metadata": {},
      "outputs": [
        {
          "data": {
            "image/png": "[encoded data removed]",
            "text/plain": [
              "<Figure size 1000x500 with 1 Axes>"
            ]
          },
          "metadata": {},
          "output_type": "display_data"
        }
      ],
      "source": [
        "rfm_df['R_Score'] = pd.qcut(rfm_df['recency'].rank(method='dense'), q=4, labels=[1, 2, 3, 4])\n",
        "rfm_df['F_Score'] = pd.cut(rfm_df['frequency'], bins=[0, 1, 2, 5, 10], labels=[1, 2, 3, 4], include_lowest=True)\n",
        "rfm_df['M_Score'] = pd.qcut(rfm_df['monetary'].rank(method='dense'), q=4, labels=[1, 2, 3, 4])\n",
        "\n",
        "rfm_df['RFM_Score'] = rfm_df['R_Score'].astype(str) + rfm_df['F_Score'].astype(str) + rfm_df['M_Score'].astype(str)\n",
        "\n",
        "def rfm_segment(score):\n",
        "    if score in ['444', '434', '344', '443', '433']:\n",
        "        return 'Best Customers'\n",
        "    elif score in ['334', '343', '323', '332']:\n",
        "        return 'Loyal Customers'\n",
        "    elif score in ['222', '211', '121', '212']:\n",
        "        return 'Churned Customers'\n",
        "    else:\n",
        "        return 'Others'\n",
        "\n",
        "rfm_df['Segment'] = rfm_df['RFM_Score'].apply(rfm_segment)\n",
        "\n",
        "plt.figure(figsize=(10,5))\n",
        "sns.countplot(y=rfm_df['Segment'], order=rfm_df['Segment'].value_counts().index)\n",
        "plt.title(\"Distribusi Segmen Pelanggan Berdasarkan RFM\")\n",
        "plt.show()\n"
      ]
    },
    {
      "cell_type": "code",
      "execution_count": 90,
      "metadata": {},
      "outputs": [
        {
          "name": "stderr",
          "output_type": "stream",
          "text": [
            "C:\\Users\\danny\\AppData\\Local\\Temp\\ipykernel_19876\\1622287822.py:8: FutureWarning: \n",
            "\n",
            "Passing `palette` without assigning `hue` is deprecated and will be removed in v0.14.0. Assign the `x` variable to `hue` and set `legend=False` for the same effect.\n",
            "\n",
            "  sns.barplot(y=\"recency\", x=\"customer_label\", data=rfm_df.sort_values(by=\"recency\", ascending=True).head(5), palette=colors, ax=ax[0])\n",
            "C:\\Users\\danny\\AppData\\Local\\Temp\\ipykernel_19876\\1622287822.py:14: FutureWarning: \n",
            "\n",
            "Passing `palette` without assigning `hue` is deprecated and will be removed in v0.14.0. Assign the `x` variable to `hue` and set `legend=False` for the same effect.\n",
            "\n",
            "  sns.barplot(y=\"frequency\", x=\"customer_label\", data=rfm_df.sort_values(by=\"frequency\", ascending=False).head(5), palette=colors, ax=ax[1])\n",
            "C:\\Users\\danny\\AppData\\Local\\Temp\\ipykernel_19876\\1622287822.py:14: UserWarning: The palette list has more values (5) than needed (4), which may not be intended.\n",
            "  sns.barplot(y=\"frequency\", x=\"customer_label\", data=rfm_df.sort_values(by=\"frequency\", ascending=False).head(5), palette=colors, ax=ax[1])\n",
            "C:\\Users\\danny\\AppData\\Local\\Temp\\ipykernel_19876\\1622287822.py:20: FutureWarning: \n",
            "\n",
            "Passing `palette` without assigning `hue` is deprecated and will be removed in v0.14.0. Assign the `x` variable to `hue` and set `legend=False` for the same effect.\n",
            "\n",
            "  sns.barplot(y=\"monetary\", x=\"customer_label\", data=rfm_df.sort_values(by=\"monetary\", ascending=False).head(5), palette=colors, ax=ax[2])\n"
          ]
        },
        {
          "data": {
            "image/png": "[encoded data removed]",
            "text/plain": [
              "<Figure size 3000x600 with 3 Axes>"
            ]
          },
          "metadata": {},
          "output_type": "display_data"
        }
      ],
      "source": [
        "# Menampilkan 5 karakter pertama dari customer_id\n",
        "rfm_df['customer_label'] = rfm_df['customer_id'].str[:5]\n",
        "\n",
        "fig, ax = plt.subplots(nrows=1, ncols=3, figsize=(30, 6))\n",
        " \n",
        "colors = [\"#72BCD4\", \"#72BCD4\", \"#72BCD4\", \"#72BCD4\", \"#72BCD4\"]\n",
        " \n",
        "sns.barplot(y=\"recency\", x=\"customer_label\", data=rfm_df.sort_values(by=\"recency\", ascending=True).head(5), palette=colors, ax=ax[0])\n",
        "ax[0].set_ylabel(None)\n",
        "ax[0].set_xlabel(None)\n",
        "ax[0].set_title(\"By Recency (days)\", loc=\"center\", fontsize=18)\n",
        "ax[0].tick_params(axis ='x', labelsize=15)\n",
        " \n",
        "sns.barplot(y=\"frequency\", x=\"customer_label\", data=rfm_df.sort_values(by=\"frequency\", ascending=False).head(5), palette=colors, ax=ax[1])\n",
        "ax[1].set_ylabel(None)\n",
        "ax[1].set_xlabel(None)\n",
        "ax[1].set_title(\"By Frequency\", loc=\"center\", fontsize=18)\n",
        "ax[1].tick_params(axis='x', labelsize=15)\n",
        " \n",
        "sns.barplot(y=\"monetary\", x=\"customer_label\", data=rfm_df.sort_values(by=\"monetary\", ascending=False).head(5), palette=colors, ax=ax[2])\n",
        "ax[2].set_ylabel(None)\n",
        "ax[2].set_xlabel(None)\n",
        "ax[2].set_title(\"By Monetary\", loc=\"center\", fontsize=18)\n",
        "ax[2].tick_params(axis='x', labelsize=15)\n",
        " \n",
        "plt.suptitle(\"Best Customer Based on RFM Parameters (customer_id)\", fontsize=20)\n",
        "plt.show()"
      ]
    },
    {
      "cell_type": "markdown",
      "metadata": {
        "id": "_WeHlCeX8DC2"
      },
      "source": [
        "## Conclusion"
      ]
    },
    {
      "cell_type": "markdown",
      "metadata": {
        "id": "ZTcyR48Y8DC2"
      },
      "source": [
        "#### 1. Tren Pesanan  \n",
        "Dari analisis tren pesanan, terlihat adanya pola pertumbuhan jumlah pesanan dari waktu ke waktu. Peningkatan signifikan dalam pesanan pada bulan-bulan tertentu menunjukkan adanya kemungkinan faktor musiman atau promosi khusus yang mendorong lebih banyak transaksi. Dengan memahami tren ini, bisnis dapat merancang strategi pemasaran yang lebih efektif untuk memaksimalkan volume pesanan pada periode tertentu.  \n",
        "\n",
        "#### 2. Kategori Produk  \n",
        "Analisis kategori produk menunjukkan bahwa kategori dengan jumlah unit terjual tertinggi tidak selalu menjadi yang menghasilkan pendapatan tertinggi. Beberapa kategori produk memiliki volume penjualan tinggi tetapi harga satuan yang lebih rendah, sementara kategori lain dengan volume lebih kecil dapat memberikan pendapatan yang lebih besar karena harga yang lebih tinggi. Menariknya, terdapat beberapa kategori yang konsisten muncul baik dalam daftar penjualan unit maupun pendapatan tertinggi, menunjukkan produk dengan permintaan yang stabil dan nilai tinggi.  \n",
        "\n",
        "#### 3. Metode Pembayaran  \n",
        "Pelanggan memiliki preferensi yang jelas dalam memilih metode pembayaran, dengan beberapa metode yang jauh lebih sering digunakan dibandingkan yang lain. Selain itu, metode pembayaran dengan nilai transaksi rata-rata tertinggi mungkin mencerminkan segmen pelanggan yang berbeda, seperti mereka yang membeli produk dengan harga lebih tinggi atau yang lebih nyaman menggunakan metode tertentu. Memahami pola ini dapat membantu bisnis dalam menyediakan opsi pembayaran yang lebih sesuai dengan preferensi pelanggan.  \n",
        "\n",
        "#### 4. Kepuasan Pelanggan  \n",
        "Mayoritas pelanggan memberikan ulasan positif, mencerminkan pengalaman belanja yang baik secara keseluruhan. Hal ini menunjukkan bahwa layanan yang diberikan, mulai dari kualitas produk hingga proses pengiriman, telah memenuhi atau bahkan melebihi ekspektasi pelanggan. Meskipun demikian, tetap penting untuk meninjau ulasan negatif yang ada guna mengidentifikasi area yang dapat diperbaiki untuk meningkatkan kepuasan pelanggan lebih lanjut.  \n",
        "\n",
        "#### 5. Distribusi Geografis  \n",
        "Pembelian produk terkonsentrasi di beberapa kota dan negara bagian utama, menunjukkan bahwa wilayah-wilayah ini merupakan pasar utama bagi bisnis. Namun, terdapat juga area dengan tingkat pembelian yang lebih rendah yang berpotensi untuk dieksplorasi lebih lanjut. Dengan strategi pemasaran yang tepat, bisnis dapat memperluas jangkauan ke wilayah dengan permintaan yang lebih rendah dan meningkatkan volume penjualan di pasar-pasar baru.  "
      ]
    }
  ],
  "metadata": {
    "colab": {
      "provenance": []
    },
    "kernelspec": {
      "display_name": ".venv",
      "language": "python",
      "name": "python3"
    },
    "language_info": {
      "codemirror_mode": {
        "name": "ipython",
        "version": 3
      },
      "file_extension": ".py",
      "mimetype": "text/x-python",
      "name": "python",
      "nbconvert_exporter": "python",
      "pygments_lexer": "ipython3",
      "version": "3.10.11"
    },
    "orig_nbformat": 4
  },
  "nbformat": 4,
  "nbformat_minor": 0
}
